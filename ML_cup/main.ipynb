{
 "cells": [
  {
   "cell_type": "code",
   "source": [
    "import numpy as np\n",
    "import pandas as pd\n",
    "\n",
    "import matplotlib.pyplot as plt\n",
    "import seaborn as sns\n",
    "\n",
    "from scipy import sparse\n",
    "from scipy.linalg import svd\n",
    "from tqdm.notebook import tqdm\n",
    "\n",
    "%matplotlib inline"
   ],
   "metadata": {
    "collapsed": false,
    "pycharm": {
     "name": "#%%\n"
    }
   },
   "execution_count": 1,
   "outputs": []
  },
  {
   "cell_type": "markdown",
   "source": [
    "### Загрузим данные"
   ],
   "metadata": {
    "collapsed": false,
    "pycharm": {
     "name": "#%% md\n"
    }
   }
  },
  {
   "cell_type": "code",
   "execution_count": 2,
   "outputs": [],
   "source": [
    "users = pd.read_csv('data/users.csv', low_memory=False)\n",
    "organisations = pd.read_csv('data/organisations.csv', low_memory=False)\n",
    "features = pd.read_csv('data/features.csv', low_memory=False)\n",
    "aspects = pd.read_csv('data/aspects.csv', low_memory=False)\n",
    "rubricks = pd.read_csv('data/rubrics.csv', low_memory=False)\n",
    "reviews = pd.read_csv('data/reviews.csv', low_memory=False)\n",
    "\n",
    "\n",
    "to_list = lambda rubrics: [int(rubric) for rubric in str(rubrics).split(' ')]\n",
    "\n",
    "\n",
    "def apply_to_columns(df, columns, func=to_list):\n",
    "    for column in columns:\n",
    "        df.loc[~df[column].isnull(), column] = df.loc[~df[column].isnull(), column].apply(func)\n",
    "\n",
    "columns_to_int = ['rubrics_id', 'features_id']\n",
    "apply_to_columns(organisations, columns_to_int)\n",
    "\n",
    "columns_to_int = ['aspects']\n",
    "apply_to_columns(reviews, columns_to_int)"
   ],
   "metadata": {
    "collapsed": false,
    "pycharm": {
     "name": "#%%\n"
    }
   }
  },
  {
   "cell_type": "markdown",
   "source": [
    "### Закодируем расположение города пользователя и организации методом one-hot-encoding"
   ],
   "metadata": {
    "collapsed": false
   }
  },
  {
   "cell_type": "code",
   "execution_count": 3,
   "outputs": [],
   "source": [
    "users = pd.get_dummies(users, columns=['city'], prefix='user')\n",
    "organisations = pd.get_dummies(organisations, columns=['city'], prefix='org')"
   ],
   "metadata": {
    "collapsed": false,
    "pycharm": {
     "name": "#%%\n"
    }
   }
  },
  {
   "cell_type": "markdown",
   "source": [
    "### Попробуем реализовать алгоритм сингулярного разложения матриц\n",
    "(SVD - Singular-Value Decomposition)\n",
    "Для этого сначала преобразуем данные к матричному виду, где строка - пользователи,\n",
    "а столбцы - продукты, с котороыми пользователи взаимодействовали"
   ],
   "metadata": {
    "collapsed": false,
    "pycharm": {
     "name": "#%% md\n"
    }
   }
  },
  {
   "cell_type": "code",
   "execution_count": 4,
   "outputs": [
    {
     "name": "stderr",
     "output_type": "stream",
     "text": [
      "/tmp/ipykernel_53/2093021509.py:11: PerformanceWarning: DataFrame is highly fragmented.  This is usually the result of calling `frame.insert` many times, which has poor performance.  Consider joining all columns at once using pd.concat(axis=1) instead.  To get a de-fragmented frame, use `newframe = frame.copy()`\n",
      "  data[column_name] = float(0)\n"
     ]
    },
    {
     "data": {
      "text/plain": "              user_id  user_msk  user_spb               org_id  user_rating  \\\n0  523295021912509756         1         0  5145242920031317950          5.0   \n1  362006428924147790         1         0  5145242920031317950          5.0   \n\n    ts    aspects  average_bill  org_rating rubrics_id  ... 30776  30777  \\\n0  819        NaN         500.0    4.934783    [31495]  ...   0.0    0.0   \n1  839  [10, 274]         500.0    4.934783    [31495]  ...   0.0    0.0   \n\n   31286  31350  31375  31401  31495  3108292683  3501514558  3501750896  \n0    0.0    0.0    0.0    0.0    0.0         0.0         0.0         0.0  \n1    0.0    0.0    0.0    0.0    0.0         0.0         0.0         0.0  \n\n[2 rows x 230 columns]",
      "text/html": "<div>\n<style scoped>\n    .dataframe tbody tr th:only-of-type {\n        vertical-align: middle;\n    }\n\n    .dataframe tbody tr th {\n        vertical-align: top;\n    }\n\n    .dataframe thead th {\n        text-align: right;\n    }\n</style>\n<table border=\"1\" class=\"dataframe\">\n  <thead>\n    <tr style=\"text-align: right;\">\n      <th></th>\n      <th>user_id</th>\n      <th>user_msk</th>\n      <th>user_spb</th>\n      <th>org_id</th>\n      <th>user_rating</th>\n      <th>ts</th>\n      <th>aspects</th>\n      <th>average_bill</th>\n      <th>org_rating</th>\n      <th>rubrics_id</th>\n      <th>...</th>\n      <th>30776</th>\n      <th>30777</th>\n      <th>31286</th>\n      <th>31350</th>\n      <th>31375</th>\n      <th>31401</th>\n      <th>31495</th>\n      <th>3108292683</th>\n      <th>3501514558</th>\n      <th>3501750896</th>\n    </tr>\n  </thead>\n  <tbody>\n    <tr>\n      <th>0</th>\n      <td>523295021912509756</td>\n      <td>1</td>\n      <td>0</td>\n      <td>5145242920031317950</td>\n      <td>5.0</td>\n      <td>819</td>\n      <td>NaN</td>\n      <td>500.0</td>\n      <td>4.934783</td>\n      <td>[31495]</td>\n      <td>...</td>\n      <td>0.0</td>\n      <td>0.0</td>\n      <td>0.0</td>\n      <td>0.0</td>\n      <td>0.0</td>\n      <td>0.0</td>\n      <td>0.0</td>\n      <td>0.0</td>\n      <td>0.0</td>\n      <td>0.0</td>\n    </tr>\n    <tr>\n      <th>1</th>\n      <td>362006428924147790</td>\n      <td>1</td>\n      <td>0</td>\n      <td>5145242920031317950</td>\n      <td>5.0</td>\n      <td>839</td>\n      <td>[10, 274]</td>\n      <td>500.0</td>\n      <td>4.934783</td>\n      <td>[31495]</td>\n      <td>...</td>\n      <td>0.0</td>\n      <td>0.0</td>\n      <td>0.0</td>\n      <td>0.0</td>\n      <td>0.0</td>\n      <td>0.0</td>\n      <td>0.0</td>\n      <td>0.0</td>\n      <td>0.0</td>\n      <td>0.0</td>\n    </tr>\n  </tbody>\n</table>\n<p>2 rows × 230 columns</p>\n</div>"
     },
     "execution_count": 4,
     "metadata": {},
     "output_type": "execute_result"
    }
   ],
   "source": [
    "aspects_columns = [id for id, aspect in aspects.values]\n",
    "features_columns = [id for id, feature in features.values]\n",
    "rubricks_columns = [id for id, rubrick in rubricks.values]\n",
    "columns = aspects_columns + features_columns + rubricks_columns\n",
    "\n",
    "data = users.merge(reviews, on=\"user_id\")\n",
    "data = data.merge(organisations, on=\"org_id\")\n",
    "data = data.rename({'rating_x': 'user_rating', 'rating_y': 'org_rating'}, axis=1)\n",
    "\n",
    "for column_name in columns:\n",
    "    data[column_name] = float(0)\n",
    "\n",
    "data.head(2)"
   ],
   "metadata": {
    "collapsed": false,
    "pycharm": {
     "name": "#%%\n"
    }
   }
  },
  {
   "cell_type": "markdown",
   "source": [
    "Получили датасет размерностью (3640835, 223)\n",
    "Теперь необходимо заполнить новые колонки данными"
   ],
   "metadata": {
    "collapsed": false
   }
  },
  {
   "cell_type": "code",
   "execution_count": 5,
   "outputs": [
    {
     "data": {
      "text/plain": "  0%|          | 0/3640835 [00:00<?, ?it/s]",
      "application/vnd.jupyter.widget-view+json": {
       "version_major": 2,
       "version_minor": 0,
       "model_id": "0646e498cafa4ac1a0cad54dcb5b9a67"
      }
     },
     "metadata": {},
     "output_type": "display_data"
    },
    {
     "data": {
      "text/plain": "              user_id  user_msk  user_spb               org_id  user_rating  \\\n0  523295021912509756         1         0  5145242920031317950          5.0   \n1  362006428924147790         1         0  5145242920031317950          5.0   \n\n    ts    aspects  average_bill  org_rating rubrics_id  ... 30776  30777  \\\n0  819        NaN         500.0    4.934783    [31495]  ...   0.0    0.0   \n1  839  [10, 274]         500.0    4.934783    [31495]  ...   0.0    0.0   \n\n   31286  31350  31375  31401  31495  3108292683  3501514558  3501750896  \n0    0.0    0.0    0.0    0.0    1.0         0.0         0.0         0.0  \n1    0.0    0.0    0.0    0.0    1.0         0.0         0.0         0.0  \n\n[2 rows x 230 columns]",
      "text/html": "<div>\n<style scoped>\n    .dataframe tbody tr th:only-of-type {\n        vertical-align: middle;\n    }\n\n    .dataframe tbody tr th {\n        vertical-align: top;\n    }\n\n    .dataframe thead th {\n        text-align: right;\n    }\n</style>\n<table border=\"1\" class=\"dataframe\">\n  <thead>\n    <tr style=\"text-align: right;\">\n      <th></th>\n      <th>user_id</th>\n      <th>user_msk</th>\n      <th>user_spb</th>\n      <th>org_id</th>\n      <th>user_rating</th>\n      <th>ts</th>\n      <th>aspects</th>\n      <th>average_bill</th>\n      <th>org_rating</th>\n      <th>rubrics_id</th>\n      <th>...</th>\n      <th>30776</th>\n      <th>30777</th>\n      <th>31286</th>\n      <th>31350</th>\n      <th>31375</th>\n      <th>31401</th>\n      <th>31495</th>\n      <th>3108292683</th>\n      <th>3501514558</th>\n      <th>3501750896</th>\n    </tr>\n  </thead>\n  <tbody>\n    <tr>\n      <th>0</th>\n      <td>523295021912509756</td>\n      <td>1</td>\n      <td>0</td>\n      <td>5145242920031317950</td>\n      <td>5.0</td>\n      <td>819</td>\n      <td>NaN</td>\n      <td>500.0</td>\n      <td>4.934783</td>\n      <td>[31495]</td>\n      <td>...</td>\n      <td>0.0</td>\n      <td>0.0</td>\n      <td>0.0</td>\n      <td>0.0</td>\n      <td>0.0</td>\n      <td>0.0</td>\n      <td>1.0</td>\n      <td>0.0</td>\n      <td>0.0</td>\n      <td>0.0</td>\n    </tr>\n    <tr>\n      <th>1</th>\n      <td>362006428924147790</td>\n      <td>1</td>\n      <td>0</td>\n      <td>5145242920031317950</td>\n      <td>5.0</td>\n      <td>839</td>\n      <td>[10, 274]</td>\n      <td>500.0</td>\n      <td>4.934783</td>\n      <td>[31495]</td>\n      <td>...</td>\n      <td>0.0</td>\n      <td>0.0</td>\n      <td>0.0</td>\n      <td>0.0</td>\n      <td>0.0</td>\n      <td>0.0</td>\n      <td>1.0</td>\n      <td>0.0</td>\n      <td>0.0</td>\n      <td>0.0</td>\n    </tr>\n  </tbody>\n</table>\n<p>2 rows × 230 columns</p>\n</div>"
     },
     "execution_count": 5,
     "metadata": {},
     "output_type": "execute_result"
    }
   ],
   "source": [
    "for row in tqdm(range(0, len(data))):\n",
    "    if data.iloc[row, 6] is not np.nan:\n",
    "        for aspect in data.iloc[row, 6]:\n",
    "            data.at[row, aspect] = 1\n",
    "    if data.iloc[row, 10] is not np.nan:\n",
    "        for feature in data.iloc[row, 10]:\n",
    "            data.at[row, feature] = 1\n",
    "    for rubrick in data.iloc[row, 9]:\n",
    "        data.at[row, rubrick] = 1\n",
    "\n",
    "data.head(2)"
   ],
   "metadata": {
    "collapsed": false,
    "pycharm": {
     "name": "#%%\n"
    }
   }
  },
  {
   "cell_type": "markdown",
   "source": [
    "### Отбросим более не нужные колонки и заменим nan на 0"
   ],
   "metadata": {
    "collapsed": false,
    "pycharm": {
     "name": "#%% md\n"
    }
   }
  },
  {
   "cell_type": "code",
   "execution_count": 35,
   "outputs": [
    {
     "data": {
      "text/plain": "   user_id  user_msk  user_spb  org_id  user_rating    ts  org_rating  \\\n0    35829         1         0   18640          5.0   819    4.934783   \n1    24759         1         0   18640          5.0   839    4.934783   \n2   725867         1         0   18640          5.0   975    4.934783   \n3   672972         1         0   18640          5.0  1145    4.934783   \n4   950809         1         0   18640          5.0  1093    4.934783   \n5   625213         1         0   18640          4.0   876    4.934783   \n6   715505         1         0   18640          5.0   923    4.934783   \n7   140319         1         0   18640          4.0  1095    4.934783   \n8   622888         1         0   18640          5.0   920    4.934783   \n9   594987         1         0   18640          5.0  1001    4.934783   \n\n   org_msk    2    3  ...  30776  30777  31286  31350  31375  31401  31495  \\\n0        1  0.0  0.0  ...    0.0    0.0    0.0    0.0    0.0    0.0    1.0   \n1        1  0.0  0.0  ...    0.0    0.0    0.0    0.0    0.0    0.0    1.0   \n2        1  0.0  0.0  ...    0.0    0.0    0.0    0.0    0.0    0.0    1.0   \n3        1  0.0  0.0  ...    0.0    0.0    0.0    0.0    0.0    0.0    1.0   \n4        1  0.0  0.0  ...    0.0    0.0    0.0    0.0    0.0    0.0    1.0   \n5        1  0.0  0.0  ...    0.0    0.0    0.0    0.0    0.0    0.0    1.0   \n6        1  0.0  0.0  ...    0.0    0.0    0.0    0.0    0.0    0.0    1.0   \n7        1  0.0  0.0  ...    0.0    0.0    0.0    0.0    0.0    0.0    1.0   \n8        1  0.0  0.0  ...    0.0    0.0    0.0    0.0    0.0    0.0    1.0   \n9        1  0.0  0.0  ...    0.0    0.0    0.0    0.0    0.0    0.0    1.0   \n\n   3108292683  3501514558  3501750896  \n0         0.0         0.0         0.0  \n1         0.0         0.0         0.0  \n2         0.0         0.0         0.0  \n3         0.0         0.0         0.0  \n4         0.0         0.0         0.0  \n5         0.0         0.0         0.0  \n6         0.0         0.0         0.0  \n7         0.0         0.0         0.0  \n8         0.0         0.0         0.0  \n9         0.0         0.0         0.0  \n\n[10 rows x 224 columns]",
      "text/html": "<div>\n<style scoped>\n    .dataframe tbody tr th:only-of-type {\n        vertical-align: middle;\n    }\n\n    .dataframe tbody tr th {\n        vertical-align: top;\n    }\n\n    .dataframe thead th {\n        text-align: right;\n    }\n</style>\n<table border=\"1\" class=\"dataframe\">\n  <thead>\n    <tr style=\"text-align: right;\">\n      <th></th>\n      <th>user_id</th>\n      <th>user_msk</th>\n      <th>user_spb</th>\n      <th>org_id</th>\n      <th>user_rating</th>\n      <th>ts</th>\n      <th>org_rating</th>\n      <th>org_msk</th>\n      <th>2</th>\n      <th>3</th>\n      <th>...</th>\n      <th>30776</th>\n      <th>30777</th>\n      <th>31286</th>\n      <th>31350</th>\n      <th>31375</th>\n      <th>31401</th>\n      <th>31495</th>\n      <th>3108292683</th>\n      <th>3501514558</th>\n      <th>3501750896</th>\n    </tr>\n  </thead>\n  <tbody>\n    <tr>\n      <th>0</th>\n      <td>35829</td>\n      <td>1</td>\n      <td>0</td>\n      <td>18640</td>\n      <td>5.0</td>\n      <td>819</td>\n      <td>4.934783</td>\n      <td>1</td>\n      <td>0.0</td>\n      <td>0.0</td>\n      <td>...</td>\n      <td>0.0</td>\n      <td>0.0</td>\n      <td>0.0</td>\n      <td>0.0</td>\n      <td>0.0</td>\n      <td>0.0</td>\n      <td>1.0</td>\n      <td>0.0</td>\n      <td>0.0</td>\n      <td>0.0</td>\n    </tr>\n    <tr>\n      <th>1</th>\n      <td>24759</td>\n      <td>1</td>\n      <td>0</td>\n      <td>18640</td>\n      <td>5.0</td>\n      <td>839</td>\n      <td>4.934783</td>\n      <td>1</td>\n      <td>0.0</td>\n      <td>0.0</td>\n      <td>...</td>\n      <td>0.0</td>\n      <td>0.0</td>\n      <td>0.0</td>\n      <td>0.0</td>\n      <td>0.0</td>\n      <td>0.0</td>\n      <td>1.0</td>\n      <td>0.0</td>\n      <td>0.0</td>\n      <td>0.0</td>\n    </tr>\n    <tr>\n      <th>2</th>\n      <td>725867</td>\n      <td>1</td>\n      <td>0</td>\n      <td>18640</td>\n      <td>5.0</td>\n      <td>975</td>\n      <td>4.934783</td>\n      <td>1</td>\n      <td>0.0</td>\n      <td>0.0</td>\n      <td>...</td>\n      <td>0.0</td>\n      <td>0.0</td>\n      <td>0.0</td>\n      <td>0.0</td>\n      <td>0.0</td>\n      <td>0.0</td>\n      <td>1.0</td>\n      <td>0.0</td>\n      <td>0.0</td>\n      <td>0.0</td>\n    </tr>\n    <tr>\n      <th>3</th>\n      <td>672972</td>\n      <td>1</td>\n      <td>0</td>\n      <td>18640</td>\n      <td>5.0</td>\n      <td>1145</td>\n      <td>4.934783</td>\n      <td>1</td>\n      <td>0.0</td>\n      <td>0.0</td>\n      <td>...</td>\n      <td>0.0</td>\n      <td>0.0</td>\n      <td>0.0</td>\n      <td>0.0</td>\n      <td>0.0</td>\n      <td>0.0</td>\n      <td>1.0</td>\n      <td>0.0</td>\n      <td>0.0</td>\n      <td>0.0</td>\n    </tr>\n    <tr>\n      <th>4</th>\n      <td>950809</td>\n      <td>1</td>\n      <td>0</td>\n      <td>18640</td>\n      <td>5.0</td>\n      <td>1093</td>\n      <td>4.934783</td>\n      <td>1</td>\n      <td>0.0</td>\n      <td>0.0</td>\n      <td>...</td>\n      <td>0.0</td>\n      <td>0.0</td>\n      <td>0.0</td>\n      <td>0.0</td>\n      <td>0.0</td>\n      <td>0.0</td>\n      <td>1.0</td>\n      <td>0.0</td>\n      <td>0.0</td>\n      <td>0.0</td>\n    </tr>\n    <tr>\n      <th>5</th>\n      <td>625213</td>\n      <td>1</td>\n      <td>0</td>\n      <td>18640</td>\n      <td>4.0</td>\n      <td>876</td>\n      <td>4.934783</td>\n      <td>1</td>\n      <td>0.0</td>\n      <td>0.0</td>\n      <td>...</td>\n      <td>0.0</td>\n      <td>0.0</td>\n      <td>0.0</td>\n      <td>0.0</td>\n      <td>0.0</td>\n      <td>0.0</td>\n      <td>1.0</td>\n      <td>0.0</td>\n      <td>0.0</td>\n      <td>0.0</td>\n    </tr>\n    <tr>\n      <th>6</th>\n      <td>715505</td>\n      <td>1</td>\n      <td>0</td>\n      <td>18640</td>\n      <td>5.0</td>\n      <td>923</td>\n      <td>4.934783</td>\n      <td>1</td>\n      <td>0.0</td>\n      <td>0.0</td>\n      <td>...</td>\n      <td>0.0</td>\n      <td>0.0</td>\n      <td>0.0</td>\n      <td>0.0</td>\n      <td>0.0</td>\n      <td>0.0</td>\n      <td>1.0</td>\n      <td>0.0</td>\n      <td>0.0</td>\n      <td>0.0</td>\n    </tr>\n    <tr>\n      <th>7</th>\n      <td>140319</td>\n      <td>1</td>\n      <td>0</td>\n      <td>18640</td>\n      <td>4.0</td>\n      <td>1095</td>\n      <td>4.934783</td>\n      <td>1</td>\n      <td>0.0</td>\n      <td>0.0</td>\n      <td>...</td>\n      <td>0.0</td>\n      <td>0.0</td>\n      <td>0.0</td>\n      <td>0.0</td>\n      <td>0.0</td>\n      <td>0.0</td>\n      <td>1.0</td>\n      <td>0.0</td>\n      <td>0.0</td>\n      <td>0.0</td>\n    </tr>\n    <tr>\n      <th>8</th>\n      <td>622888</td>\n      <td>1</td>\n      <td>0</td>\n      <td>18640</td>\n      <td>5.0</td>\n      <td>920</td>\n      <td>4.934783</td>\n      <td>1</td>\n      <td>0.0</td>\n      <td>0.0</td>\n      <td>...</td>\n      <td>0.0</td>\n      <td>0.0</td>\n      <td>0.0</td>\n      <td>0.0</td>\n      <td>0.0</td>\n      <td>0.0</td>\n      <td>1.0</td>\n      <td>0.0</td>\n      <td>0.0</td>\n      <td>0.0</td>\n    </tr>\n    <tr>\n      <th>9</th>\n      <td>594987</td>\n      <td>1</td>\n      <td>0</td>\n      <td>18640</td>\n      <td>5.0</td>\n      <td>1001</td>\n      <td>4.934783</td>\n      <td>1</td>\n      <td>0.0</td>\n      <td>0.0</td>\n      <td>...</td>\n      <td>0.0</td>\n      <td>0.0</td>\n      <td>0.0</td>\n      <td>0.0</td>\n      <td>0.0</td>\n      <td>0.0</td>\n      <td>1.0</td>\n      <td>0.0</td>\n      <td>0.0</td>\n      <td>0.0</td>\n    </tr>\n  </tbody>\n</table>\n<p>10 rows × 224 columns</p>\n</div>"
     },
     "execution_count": 35,
     "metadata": {},
     "output_type": "execute_result"
    }
   ],
   "source": [
    "data = data.drop(data.columns[[6, 9, 10]], axis=1)\n",
    "data.head(10)"
   ],
   "metadata": {
    "collapsed": false,
    "pycharm": {
     "name": "#%%\n"
    }
   }
  },
  {
   "cell_type": "markdown",
   "source": [
    "### Сохраним полученный датасет"
   ],
   "metadata": {
    "collapsed": false
   }
  },
  {
   "cell_type": "code",
   "execution_count": 7,
   "outputs": [],
   "source": [
    "data.to_csv('data.csv')"
   ],
   "metadata": {
    "collapsed": false,
    "pycharm": {
     "name": "#%%\n"
    }
   }
  },
  {
   "cell_type": "markdown",
   "source": [
    "Собстевнно SVD"
   ],
   "metadata": {
    "collapsed": false,
    "pycharm": {
     "name": "#%% md\n"
    }
   }
  },
  {
   "cell_type": "code",
   "execution_count": 78,
   "outputs": [
    {
     "ename": "MemoryError",
     "evalue": "Unable to allocate 5.99 GiB for an array with shape (221, 3640835) and data type float64",
     "output_type": "error",
     "traceback": [
      "\u001B[1;31m---------------------------------------------------------------------------\u001B[0m",
      "\u001B[1;31mMemoryError\u001B[0m                               Traceback (most recent call last)",
      "\u001B[1;32mC:\\Users\\A4F7~1\\AppData\\Local\\Temp/ipykernel_13560/3903418686.py\u001B[0m in \u001B[0;36m<module>\u001B[1;34m\u001B[0m\n\u001B[1;32m----> 1\u001B[1;33m \u001B[0mdata\u001B[0m \u001B[1;33m=\u001B[0m \u001B[0mpd\u001B[0m\u001B[1;33m.\u001B[0m\u001B[0mread_csv\u001B[0m\u001B[1;33m(\u001B[0m\u001B[1;34m'data.csv'\u001B[0m\u001B[1;33m)\u001B[0m\u001B[1;33m\u001B[0m\u001B[1;33m\u001B[0m\u001B[0m\n\u001B[0m\u001B[0;32m      2\u001B[0m \u001B[1;33m\u001B[0m\u001B[0m\n",
      "\u001B[1;32m~\\AppData\\Local\\Programs\\Python\\Python39\\lib\\site-packages\\pandas\\util\\_decorators.py\u001B[0m in \u001B[0;36mwrapper\u001B[1;34m(*args, **kwargs)\u001B[0m\n\u001B[0;32m    309\u001B[0m                     \u001B[0mstacklevel\u001B[0m\u001B[1;33m=\u001B[0m\u001B[0mstacklevel\u001B[0m\u001B[1;33m,\u001B[0m\u001B[1;33m\u001B[0m\u001B[1;33m\u001B[0m\u001B[0m\n\u001B[0;32m    310\u001B[0m                 )\n\u001B[1;32m--> 311\u001B[1;33m             \u001B[1;32mreturn\u001B[0m \u001B[0mfunc\u001B[0m\u001B[1;33m(\u001B[0m\u001B[1;33m*\u001B[0m\u001B[0margs\u001B[0m\u001B[1;33m,\u001B[0m \u001B[1;33m**\u001B[0m\u001B[0mkwargs\u001B[0m\u001B[1;33m)\u001B[0m\u001B[1;33m\u001B[0m\u001B[1;33m\u001B[0m\u001B[0m\n\u001B[0m\u001B[0;32m    312\u001B[0m \u001B[1;33m\u001B[0m\u001B[0m\n\u001B[0;32m    313\u001B[0m         \u001B[1;32mreturn\u001B[0m \u001B[0mwrapper\u001B[0m\u001B[1;33m\u001B[0m\u001B[1;33m\u001B[0m\u001B[0m\n",
      "\u001B[1;32m~\\AppData\\Local\\Programs\\Python\\Python39\\lib\\site-packages\\pandas\\io\\parsers\\readers.py\u001B[0m in \u001B[0;36mread_csv\u001B[1;34m(filepath_or_buffer, sep, delimiter, header, names, index_col, usecols, squeeze, prefix, mangle_dupe_cols, dtype, engine, converters, true_values, false_values, skipinitialspace, skiprows, skipfooter, nrows, na_values, keep_default_na, na_filter, verbose, skip_blank_lines, parse_dates, infer_datetime_format, keep_date_col, date_parser, dayfirst, cache_dates, iterator, chunksize, compression, thousands, decimal, lineterminator, quotechar, quoting, doublequote, escapechar, comment, encoding, encoding_errors, dialect, error_bad_lines, warn_bad_lines, on_bad_lines, delim_whitespace, low_memory, memory_map, float_precision, storage_options)\u001B[0m\n\u001B[0;32m    584\u001B[0m     \u001B[0mkwds\u001B[0m\u001B[1;33m.\u001B[0m\u001B[0mupdate\u001B[0m\u001B[1;33m(\u001B[0m\u001B[0mkwds_defaults\u001B[0m\u001B[1;33m)\u001B[0m\u001B[1;33m\u001B[0m\u001B[1;33m\u001B[0m\u001B[0m\n\u001B[0;32m    585\u001B[0m \u001B[1;33m\u001B[0m\u001B[0m\n\u001B[1;32m--> 586\u001B[1;33m     \u001B[1;32mreturn\u001B[0m \u001B[0m_read\u001B[0m\u001B[1;33m(\u001B[0m\u001B[0mfilepath_or_buffer\u001B[0m\u001B[1;33m,\u001B[0m \u001B[0mkwds\u001B[0m\u001B[1;33m)\u001B[0m\u001B[1;33m\u001B[0m\u001B[1;33m\u001B[0m\u001B[0m\n\u001B[0m\u001B[0;32m    587\u001B[0m \u001B[1;33m\u001B[0m\u001B[0m\n\u001B[0;32m    588\u001B[0m \u001B[1;33m\u001B[0m\u001B[0m\n",
      "\u001B[1;32m~\\AppData\\Local\\Programs\\Python\\Python39\\lib\\site-packages\\pandas\\io\\parsers\\readers.py\u001B[0m in \u001B[0;36m_read\u001B[1;34m(filepath_or_buffer, kwds)\u001B[0m\n\u001B[0;32m    486\u001B[0m \u001B[1;33m\u001B[0m\u001B[0m\n\u001B[0;32m    487\u001B[0m     \u001B[1;32mwith\u001B[0m \u001B[0mparser\u001B[0m\u001B[1;33m:\u001B[0m\u001B[1;33m\u001B[0m\u001B[1;33m\u001B[0m\u001B[0m\n\u001B[1;32m--> 488\u001B[1;33m         \u001B[1;32mreturn\u001B[0m \u001B[0mparser\u001B[0m\u001B[1;33m.\u001B[0m\u001B[0mread\u001B[0m\u001B[1;33m(\u001B[0m\u001B[0mnrows\u001B[0m\u001B[1;33m)\u001B[0m\u001B[1;33m\u001B[0m\u001B[1;33m\u001B[0m\u001B[0m\n\u001B[0m\u001B[0;32m    489\u001B[0m \u001B[1;33m\u001B[0m\u001B[0m\n\u001B[0;32m    490\u001B[0m \u001B[1;33m\u001B[0m\u001B[0m\n",
      "\u001B[1;32m~\\AppData\\Local\\Programs\\Python\\Python39\\lib\\site-packages\\pandas\\io\\parsers\\readers.py\u001B[0m in \u001B[0;36mread\u001B[1;34m(self, nrows)\u001B[0m\n\u001B[0;32m   1057\u001B[0m             \u001B[0mnew_rows\u001B[0m \u001B[1;33m=\u001B[0m \u001B[0mlen\u001B[0m\u001B[1;33m(\u001B[0m\u001B[0mindex\u001B[0m\u001B[1;33m)\u001B[0m\u001B[1;33m\u001B[0m\u001B[1;33m\u001B[0m\u001B[0m\n\u001B[0;32m   1058\u001B[0m \u001B[1;33m\u001B[0m\u001B[0m\n\u001B[1;32m-> 1059\u001B[1;33m         \u001B[0mdf\u001B[0m \u001B[1;33m=\u001B[0m \u001B[0mDataFrame\u001B[0m\u001B[1;33m(\u001B[0m\u001B[0mcol_dict\u001B[0m\u001B[1;33m,\u001B[0m \u001B[0mcolumns\u001B[0m\u001B[1;33m=\u001B[0m\u001B[0mcolumns\u001B[0m\u001B[1;33m,\u001B[0m \u001B[0mindex\u001B[0m\u001B[1;33m=\u001B[0m\u001B[0mindex\u001B[0m\u001B[1;33m)\u001B[0m\u001B[1;33m\u001B[0m\u001B[1;33m\u001B[0m\u001B[0m\n\u001B[0m\u001B[0;32m   1060\u001B[0m \u001B[1;33m\u001B[0m\u001B[0m\n\u001B[0;32m   1061\u001B[0m         \u001B[0mself\u001B[0m\u001B[1;33m.\u001B[0m\u001B[0m_currow\u001B[0m \u001B[1;33m+=\u001B[0m \u001B[0mnew_rows\u001B[0m\u001B[1;33m\u001B[0m\u001B[1;33m\u001B[0m\u001B[0m\n",
      "\u001B[1;32m~\\AppData\\Local\\Programs\\Python\\Python39\\lib\\site-packages\\pandas\\core\\frame.py\u001B[0m in \u001B[0;36m__init__\u001B[1;34m(self, data, index, columns, dtype, copy)\u001B[0m\n\u001B[0;32m    612\u001B[0m         \u001B[1;32melif\u001B[0m \u001B[0misinstance\u001B[0m\u001B[1;33m(\u001B[0m\u001B[0mdata\u001B[0m\u001B[1;33m,\u001B[0m \u001B[0mdict\u001B[0m\u001B[1;33m)\u001B[0m\u001B[1;33m:\u001B[0m\u001B[1;33m\u001B[0m\u001B[1;33m\u001B[0m\u001B[0m\n\u001B[0;32m    613\u001B[0m             \u001B[1;31m# GH#38939 de facto copy defaults to False only in non-dict cases\u001B[0m\u001B[1;33m\u001B[0m\u001B[1;33m\u001B[0m\u001B[0m\n\u001B[1;32m--> 614\u001B[1;33m             \u001B[0mmgr\u001B[0m \u001B[1;33m=\u001B[0m \u001B[0mdict_to_mgr\u001B[0m\u001B[1;33m(\u001B[0m\u001B[0mdata\u001B[0m\u001B[1;33m,\u001B[0m \u001B[0mindex\u001B[0m\u001B[1;33m,\u001B[0m \u001B[0mcolumns\u001B[0m\u001B[1;33m,\u001B[0m \u001B[0mdtype\u001B[0m\u001B[1;33m=\u001B[0m\u001B[0mdtype\u001B[0m\u001B[1;33m,\u001B[0m \u001B[0mcopy\u001B[0m\u001B[1;33m=\u001B[0m\u001B[0mcopy\u001B[0m\u001B[1;33m,\u001B[0m \u001B[0mtyp\u001B[0m\u001B[1;33m=\u001B[0m\u001B[0mmanager\u001B[0m\u001B[1;33m)\u001B[0m\u001B[1;33m\u001B[0m\u001B[1;33m\u001B[0m\u001B[0m\n\u001B[0m\u001B[0;32m    615\u001B[0m         \u001B[1;32melif\u001B[0m \u001B[0misinstance\u001B[0m\u001B[1;33m(\u001B[0m\u001B[0mdata\u001B[0m\u001B[1;33m,\u001B[0m \u001B[0mma\u001B[0m\u001B[1;33m.\u001B[0m\u001B[0mMaskedArray\u001B[0m\u001B[1;33m)\u001B[0m\u001B[1;33m:\u001B[0m\u001B[1;33m\u001B[0m\u001B[1;33m\u001B[0m\u001B[0m\n\u001B[0;32m    616\u001B[0m             \u001B[1;32mimport\u001B[0m \u001B[0mnumpy\u001B[0m\u001B[1;33m.\u001B[0m\u001B[0mma\u001B[0m\u001B[1;33m.\u001B[0m\u001B[0mmrecords\u001B[0m \u001B[1;32mas\u001B[0m \u001B[0mmrecords\u001B[0m\u001B[1;33m\u001B[0m\u001B[1;33m\u001B[0m\u001B[0m\n",
      "\u001B[1;32m~\\AppData\\Local\\Programs\\Python\\Python39\\lib\\site-packages\\pandas\\core\\internals\\construction.py\u001B[0m in \u001B[0;36mdict_to_mgr\u001B[1;34m(data, index, columns, dtype, typ, copy)\u001B[0m\n\u001B[0;32m    462\u001B[0m         \u001B[1;31m# TODO: can we get rid of the dt64tz special case above?\u001B[0m\u001B[1;33m\u001B[0m\u001B[1;33m\u001B[0m\u001B[0m\n\u001B[0;32m    463\u001B[0m \u001B[1;33m\u001B[0m\u001B[0m\n\u001B[1;32m--> 464\u001B[1;33m     return arrays_to_mgr(\n\u001B[0m\u001B[0;32m    465\u001B[0m         \u001B[0marrays\u001B[0m\u001B[1;33m,\u001B[0m \u001B[0mdata_names\u001B[0m\u001B[1;33m,\u001B[0m \u001B[0mindex\u001B[0m\u001B[1;33m,\u001B[0m \u001B[0mcolumns\u001B[0m\u001B[1;33m,\u001B[0m \u001B[0mdtype\u001B[0m\u001B[1;33m=\u001B[0m\u001B[0mdtype\u001B[0m\u001B[1;33m,\u001B[0m \u001B[0mtyp\u001B[0m\u001B[1;33m=\u001B[0m\u001B[0mtyp\u001B[0m\u001B[1;33m,\u001B[0m \u001B[0mconsolidate\u001B[0m\u001B[1;33m=\u001B[0m\u001B[0mcopy\u001B[0m\u001B[1;33m\u001B[0m\u001B[1;33m\u001B[0m\u001B[0m\n\u001B[0;32m    466\u001B[0m     )\n",
      "\u001B[1;32m~\\AppData\\Local\\Programs\\Python\\Python39\\lib\\site-packages\\pandas\\core\\internals\\construction.py\u001B[0m in \u001B[0;36marrays_to_mgr\u001B[1;34m(arrays, arr_names, index, columns, dtype, verify_integrity, typ, consolidate)\u001B[0m\n\u001B[0;32m    133\u001B[0m \u001B[1;33m\u001B[0m\u001B[0m\n\u001B[0;32m    134\u001B[0m     \u001B[1;32mif\u001B[0m \u001B[0mtyp\u001B[0m \u001B[1;33m==\u001B[0m \u001B[1;34m\"block\"\u001B[0m\u001B[1;33m:\u001B[0m\u001B[1;33m\u001B[0m\u001B[1;33m\u001B[0m\u001B[0m\n\u001B[1;32m--> 135\u001B[1;33m         return create_block_manager_from_arrays(\n\u001B[0m\u001B[0;32m    136\u001B[0m             \u001B[0marrays\u001B[0m\u001B[1;33m,\u001B[0m \u001B[0marr_names\u001B[0m\u001B[1;33m,\u001B[0m \u001B[0maxes\u001B[0m\u001B[1;33m,\u001B[0m \u001B[0mconsolidate\u001B[0m\u001B[1;33m=\u001B[0m\u001B[0mconsolidate\u001B[0m\u001B[1;33m\u001B[0m\u001B[1;33m\u001B[0m\u001B[0m\n\u001B[0;32m    137\u001B[0m         )\n",
      "\u001B[1;32m~\\AppData\\Local\\Programs\\Python\\Python39\\lib\\site-packages\\pandas\\core\\internals\\managers.py\u001B[0m in \u001B[0;36mcreate_block_manager_from_arrays\u001B[1;34m(arrays, names, axes, consolidate)\u001B[0m\n\u001B[0;32m   1776\u001B[0m         \u001B[1;32mraise\u001B[0m \u001B[0mconstruction_error\u001B[0m\u001B[1;33m(\u001B[0m\u001B[0mlen\u001B[0m\u001B[1;33m(\u001B[0m\u001B[0marrays\u001B[0m\u001B[1;33m)\u001B[0m\u001B[1;33m,\u001B[0m \u001B[0marrays\u001B[0m\u001B[1;33m[\u001B[0m\u001B[1;36m0\u001B[0m\u001B[1;33m]\u001B[0m\u001B[1;33m.\u001B[0m\u001B[0mshape\u001B[0m\u001B[1;33m,\u001B[0m \u001B[0maxes\u001B[0m\u001B[1;33m,\u001B[0m \u001B[0me\u001B[0m\u001B[1;33m)\u001B[0m\u001B[1;33m\u001B[0m\u001B[1;33m\u001B[0m\u001B[0m\n\u001B[0;32m   1777\u001B[0m     \u001B[1;32mif\u001B[0m \u001B[0mconsolidate\u001B[0m\u001B[1;33m:\u001B[0m\u001B[1;33m\u001B[0m\u001B[1;33m\u001B[0m\u001B[0m\n\u001B[1;32m-> 1778\u001B[1;33m         \u001B[0mmgr\u001B[0m\u001B[1;33m.\u001B[0m\u001B[0m_consolidate_inplace\u001B[0m\u001B[1;33m(\u001B[0m\u001B[1;33m)\u001B[0m\u001B[1;33m\u001B[0m\u001B[1;33m\u001B[0m\u001B[0m\n\u001B[0m\u001B[0;32m   1779\u001B[0m     \u001B[1;32mreturn\u001B[0m \u001B[0mmgr\u001B[0m\u001B[1;33m\u001B[0m\u001B[1;33m\u001B[0m\u001B[0m\n\u001B[0;32m   1780\u001B[0m \u001B[1;33m\u001B[0m\u001B[0m\n",
      "\u001B[1;32m~\\AppData\\Local\\Programs\\Python\\Python39\\lib\\site-packages\\pandas\\core\\internals\\managers.py\u001B[0m in \u001B[0;36m_consolidate_inplace\u001B[1;34m(self)\u001B[0m\n\u001B[0;32m    622\u001B[0m     \u001B[1;32mdef\u001B[0m \u001B[0m_consolidate_inplace\u001B[0m\u001B[1;33m(\u001B[0m\u001B[0mself\u001B[0m\u001B[1;33m)\u001B[0m \u001B[1;33m->\u001B[0m \u001B[1;32mNone\u001B[0m\u001B[1;33m:\u001B[0m\u001B[1;33m\u001B[0m\u001B[1;33m\u001B[0m\u001B[0m\n\u001B[0;32m    623\u001B[0m         \u001B[1;32mif\u001B[0m \u001B[1;32mnot\u001B[0m \u001B[0mself\u001B[0m\u001B[1;33m.\u001B[0m\u001B[0mis_consolidated\u001B[0m\u001B[1;33m(\u001B[0m\u001B[1;33m)\u001B[0m\u001B[1;33m:\u001B[0m\u001B[1;33m\u001B[0m\u001B[1;33m\u001B[0m\u001B[0m\n\u001B[1;32m--> 624\u001B[1;33m             \u001B[0mself\u001B[0m\u001B[1;33m.\u001B[0m\u001B[0mblocks\u001B[0m \u001B[1;33m=\u001B[0m \u001B[0mtuple\u001B[0m\u001B[1;33m(\u001B[0m\u001B[0m_consolidate\u001B[0m\u001B[1;33m(\u001B[0m\u001B[0mself\u001B[0m\u001B[1;33m.\u001B[0m\u001B[0mblocks\u001B[0m\u001B[1;33m)\u001B[0m\u001B[1;33m)\u001B[0m\u001B[1;33m\u001B[0m\u001B[1;33m\u001B[0m\u001B[0m\n\u001B[0m\u001B[0;32m    625\u001B[0m             \u001B[0mself\u001B[0m\u001B[1;33m.\u001B[0m\u001B[0m_is_consolidated\u001B[0m \u001B[1;33m=\u001B[0m \u001B[1;32mTrue\u001B[0m\u001B[1;33m\u001B[0m\u001B[1;33m\u001B[0m\u001B[0m\n\u001B[0;32m    626\u001B[0m             \u001B[0mself\u001B[0m\u001B[1;33m.\u001B[0m\u001B[0m_known_consolidated\u001B[0m \u001B[1;33m=\u001B[0m \u001B[1;32mTrue\u001B[0m\u001B[1;33m\u001B[0m\u001B[1;33m\u001B[0m\u001B[0m\n",
      "\u001B[1;32m~\\AppData\\Local\\Programs\\Python\\Python39\\lib\\site-packages\\pandas\\core\\internals\\managers.py\u001B[0m in \u001B[0;36m_consolidate\u001B[1;34m(blocks)\u001B[0m\n\u001B[0;32m   1972\u001B[0m     \u001B[0mnew_blocks\u001B[0m\u001B[1;33m:\u001B[0m \u001B[0mlist\u001B[0m\u001B[1;33m[\u001B[0m\u001B[0mBlock\u001B[0m\u001B[1;33m]\u001B[0m \u001B[1;33m=\u001B[0m \u001B[1;33m[\u001B[0m\u001B[1;33m]\u001B[0m\u001B[1;33m\u001B[0m\u001B[1;33m\u001B[0m\u001B[0m\n\u001B[0;32m   1973\u001B[0m     \u001B[1;32mfor\u001B[0m \u001B[1;33m(\u001B[0m\u001B[0m_can_consolidate\u001B[0m\u001B[1;33m,\u001B[0m \u001B[0mdtype\u001B[0m\u001B[1;33m)\u001B[0m\u001B[1;33m,\u001B[0m \u001B[0mgroup_blocks\u001B[0m \u001B[1;32min\u001B[0m \u001B[0mgrouper\u001B[0m\u001B[1;33m:\u001B[0m\u001B[1;33m\u001B[0m\u001B[1;33m\u001B[0m\u001B[0m\n\u001B[1;32m-> 1974\u001B[1;33m         merged_blocks = _merge_blocks(\n\u001B[0m\u001B[0;32m   1975\u001B[0m             \u001B[0mlist\u001B[0m\u001B[1;33m(\u001B[0m\u001B[0mgroup_blocks\u001B[0m\u001B[1;33m)\u001B[0m\u001B[1;33m,\u001B[0m \u001B[0mdtype\u001B[0m\u001B[1;33m=\u001B[0m\u001B[0mdtype\u001B[0m\u001B[1;33m,\u001B[0m \u001B[0mcan_consolidate\u001B[0m\u001B[1;33m=\u001B[0m\u001B[0m_can_consolidate\u001B[0m\u001B[1;33m\u001B[0m\u001B[1;33m\u001B[0m\u001B[0m\n\u001B[0;32m   1976\u001B[0m         )\n",
      "\u001B[1;32m~\\AppData\\Local\\Programs\\Python\\Python39\\lib\\site-packages\\pandas\\core\\internals\\managers.py\u001B[0m in \u001B[0;36m_merge_blocks\u001B[1;34m(blocks, dtype, can_consolidate)\u001B[0m\n\u001B[0;32m   2006\u001B[0m \u001B[1;33m\u001B[0m\u001B[0m\n\u001B[0;32m   2007\u001B[0m         \u001B[0margsort\u001B[0m \u001B[1;33m=\u001B[0m \u001B[0mnp\u001B[0m\u001B[1;33m.\u001B[0m\u001B[0margsort\u001B[0m\u001B[1;33m(\u001B[0m\u001B[0mnew_mgr_locs\u001B[0m\u001B[1;33m)\u001B[0m\u001B[1;33m\u001B[0m\u001B[1;33m\u001B[0m\u001B[0m\n\u001B[1;32m-> 2008\u001B[1;33m         \u001B[0mnew_values\u001B[0m \u001B[1;33m=\u001B[0m \u001B[0mnew_values\u001B[0m\u001B[1;33m[\u001B[0m\u001B[0margsort\u001B[0m\u001B[1;33m]\u001B[0m\u001B[1;33m\u001B[0m\u001B[1;33m\u001B[0m\u001B[0m\n\u001B[0m\u001B[0;32m   2009\u001B[0m         \u001B[0mnew_mgr_locs\u001B[0m \u001B[1;33m=\u001B[0m \u001B[0mnew_mgr_locs\u001B[0m\u001B[1;33m[\u001B[0m\u001B[0margsort\u001B[0m\u001B[1;33m]\u001B[0m\u001B[1;33m\u001B[0m\u001B[1;33m\u001B[0m\u001B[0m\n\u001B[0;32m   2010\u001B[0m \u001B[1;33m\u001B[0m\u001B[0m\n",
      "\u001B[1;31mMemoryError\u001B[0m: Unable to allocate 5.99 GiB for an array with shape (221, 3640835) and data type float64"
     ]
    }
   ],
   "source": [
    "data = pd.read_csv('data.csv')\n"
   ],
   "metadata": {
    "collapsed": false,
    "pycharm": {
     "name": "#%%\n"
    }
   }
  },
  {
   "cell_type": "code",
   "execution_count": 15,
   "outputs": [],
   "source": [
    "from sklearn.preprocessing import LabelEncoder\n",
    "\n",
    "user_enc = LabelEncoder()\n",
    "org_enc = LabelEncoder()\n",
    "\n",
    "user_enc = user_enc.fit(data.user_id.values)\n",
    "org_enc = org_enc.fit(data.org_id.values)\n",
    "\n",
    "\n",
    "data.loc[:, 'user_id'] = user_enc.transform(data.loc[:, 'user_id'].values)\n",
    "data.loc[:, 'org_id'] = org_enc.transform(data.loc[:, 'org_id'].values)\n"
   ],
   "metadata": {
    "collapsed": false,
    "pycharm": {
     "name": "#%%\n"
    }
   }
  },
  {
   "cell_type": "code",
   "execution_count": 32,
   "outputs": [
    {
     "data": {
      "text/plain": "<1252801x66405 sparse matrix of type '<class 'numpy.float64'>'\n\twith 3640835 stored elements in COOrdinate format>"
     },
     "execution_count": 32,
     "metadata": {},
     "output_type": "execute_result"
    }
   ],
   "source": [
    "from scipy.sparse import coo_matrix, csr_matrix\n",
    "\n",
    "r = coo_matrix((data.user_rating.values, (data.user_id.values, data.org_id.values)))\n",
    "r"
   ],
   "metadata": {
    "collapsed": false,
    "pycharm": {
     "name": "#%%\n"
    }
   }
  },
  {
   "cell_type": "code",
   "execution_count": 33,
   "outputs": [
    {
     "data": {
      "text/plain": "((1252801, 20), (20, 66405))"
     },
     "execution_count": 33,
     "metadata": {},
     "output_type": "execute_result"
    }
   ],
   "source": [
    "from scipy.sparse.linalg import svds\n",
    "\n",
    "u, s ,vt = svds(r, k=20)\n",
    "u.shape, vt.shape"
   ],
   "metadata": {
    "collapsed": false,
    "pycharm": {
     "name": "#%%\n"
    }
   }
  },
  {
   "cell_type": "code",
   "execution_count": 34,
   "outputs": [
    {
     "data": {
      "text/plain": "array([[    0, 46056, 10433, 30300, 46643, 31535, 30772, 15313, 22398,\n        45000, 57332, 22164, 63009, 27993,  5091,  2668,  5094, 33932,\n        25680, 62900],\n       [    1, 38535, 14876, 32550, 58601, 38470, 47634, 24804, 40871,\n        42983, 62667,  9180, 23608, 34273,  4722,  8693, 46592, 10982,\n         2960,  2823],\n       [    2, 49095, 47762, 25328, 62942, 44995, 48993, 50992, 26932,\n         3407,  6047, 40409, 13638, 11289, 54717, 36397, 50023, 22866,\n        29786, 56633],\n       [    3, 33482, 10071, 13219, 39763, 10044, 52771, 59892, 14007,\n          391, 47332, 26491, 28675, 64163, 25831, 49736,  4357, 38870,\n         8182, 46067],\n       [    4, 23346, 35369, 27247, 34875, 14255, 11444,  3193, 63355,\n        64114, 63148, 29817, 17550, 50169, 20689, 30747, 17293,  3052,\n        58258, 14933],\n       [    5,  3507, 26090,  1288, 23633,  4679, 21128, 21130, 14007,\n        14993, 38941, 38386, 37306, 16288, 63833, 34295,  2423, 54062,\n        49974, 20684],\n       [    6, 58676, 33182, 50628, 22209, 42661, 24460, 53616, 29763,\n        51713,  4887, 25292, 24448, 60756, 61462, 52182, 38691, 36195,\n         5319,  9232],\n       [    7, 55729, 63204, 41422,  2583,  9560, 60137, 26726, 25584,\n        14864,  2229, 27767, 52996, 33969,  7436, 65423, 59356, 51377,\n        12104,   522],\n       [    8, 44445,  8256, 41399, 65220, 38310,  7166, 33025, 11284,\n        31115, 65569, 60331, 30565,  3665, 66323,  5176, 19665,  9764,\n         1390, 27686],\n       [    9, 36779, 49883, 31459, 19101, 40594, 51967, 14829,  4915,\n        13798, 20108, 28257, 44661,  9441, 11843,  4137, 64743, 16220,\n        29337,  7549]])"
     },
     "execution_count": 34,
     "metadata": {},
     "output_type": "execute_result"
    }
   ],
   "source": [
    "from sklearn.neighbors import NearestNeighbors\n",
    "\n",
    "nn = NearestNeighbors(n_neighbors=20)\n",
    "v = vt.T\n",
    "nn.fit(v)\n",
    "_, ind = nn.kneighbors(v, n_neighbors=20)\n",
    "\n",
    "ind[:20]"
   ],
   "metadata": {
    "collapsed": false,
    "pycharm": {
     "name": "#%%\n"
    }
   }
  },
  {
   "cell_type": "code",
   "execution_count": 31,
   "outputs": [
    {
     "data": {
      "text/plain": "   org  nn_1  nn_2  nn_3  nn_4  nn_5  nn_6  nn_7  nn_8  nn_9  nn_10  nn_11  \\\n0    0     2     2     2     2     2     2     2     2     2      2      2   \n1    0     2     2     2     2     0     2     2     2     2      2      2   \n2    1     2     2     2     2     0     2     2     2     2      2      2   \n3    2     2     2     2     2     0     2     2     2     2      2      2   \n4    2     2     2     2     2     0     2     2     2     2      2      2   \n\n   nn_12  nn_13  nn_14  nn_15  nn_16  nn_17  nn_18  nn_19  \n0      2      1      2      2      0      2      2      2  \n1      2      2      2      1      2      2      2      2  \n2      2      2      2      2      0      2      2      2  \n3      2      2      1      2      2      0      2      2  \n4      2      2      1      2      0      2      2      2  ",
      "text/html": "<div>\n<style scoped>\n    .dataframe tbody tr th:only-of-type {\n        vertical-align: middle;\n    }\n\n    .dataframe tbody tr th {\n        vertical-align: top;\n    }\n\n    .dataframe thead th {\n        text-align: right;\n    }\n</style>\n<table border=\"1\" class=\"dataframe\">\n  <thead>\n    <tr style=\"text-align: right;\">\n      <th></th>\n      <th>org</th>\n      <th>nn_1</th>\n      <th>nn_2</th>\n      <th>nn_3</th>\n      <th>nn_4</th>\n      <th>nn_5</th>\n      <th>nn_6</th>\n      <th>nn_7</th>\n      <th>nn_8</th>\n      <th>nn_9</th>\n      <th>nn_10</th>\n      <th>nn_11</th>\n      <th>nn_12</th>\n      <th>nn_13</th>\n      <th>nn_14</th>\n      <th>nn_15</th>\n      <th>nn_16</th>\n      <th>nn_17</th>\n      <th>nn_18</th>\n      <th>nn_19</th>\n    </tr>\n  </thead>\n  <tbody>\n    <tr>\n      <th>0</th>\n      <td>0</td>\n      <td>2</td>\n      <td>2</td>\n      <td>2</td>\n      <td>2</td>\n      <td>2</td>\n      <td>2</td>\n      <td>2</td>\n      <td>2</td>\n      <td>2</td>\n      <td>2</td>\n      <td>2</td>\n      <td>2</td>\n      <td>1</td>\n      <td>2</td>\n      <td>2</td>\n      <td>0</td>\n      <td>2</td>\n      <td>2</td>\n      <td>2</td>\n    </tr>\n    <tr>\n      <th>1</th>\n      <td>0</td>\n      <td>2</td>\n      <td>2</td>\n      <td>2</td>\n      <td>2</td>\n      <td>0</td>\n      <td>2</td>\n      <td>2</td>\n      <td>2</td>\n      <td>2</td>\n      <td>2</td>\n      <td>2</td>\n      <td>2</td>\n      <td>2</td>\n      <td>2</td>\n      <td>1</td>\n      <td>2</td>\n      <td>2</td>\n      <td>2</td>\n      <td>2</td>\n    </tr>\n    <tr>\n      <th>2</th>\n      <td>1</td>\n      <td>2</td>\n      <td>2</td>\n      <td>2</td>\n      <td>2</td>\n      <td>0</td>\n      <td>2</td>\n      <td>2</td>\n      <td>2</td>\n      <td>2</td>\n      <td>2</td>\n      <td>2</td>\n      <td>2</td>\n      <td>2</td>\n      <td>2</td>\n      <td>2</td>\n      <td>0</td>\n      <td>2</td>\n      <td>2</td>\n      <td>2</td>\n    </tr>\n    <tr>\n      <th>3</th>\n      <td>2</td>\n      <td>2</td>\n      <td>2</td>\n      <td>2</td>\n      <td>2</td>\n      <td>0</td>\n      <td>2</td>\n      <td>2</td>\n      <td>2</td>\n      <td>2</td>\n      <td>2</td>\n      <td>2</td>\n      <td>2</td>\n      <td>2</td>\n      <td>1</td>\n      <td>2</td>\n      <td>2</td>\n      <td>0</td>\n      <td>2</td>\n      <td>2</td>\n    </tr>\n    <tr>\n      <th>4</th>\n      <td>2</td>\n      <td>2</td>\n      <td>2</td>\n      <td>2</td>\n      <td>2</td>\n      <td>0</td>\n      <td>2</td>\n      <td>2</td>\n      <td>2</td>\n      <td>2</td>\n      <td>2</td>\n      <td>2</td>\n      <td>2</td>\n      <td>2</td>\n      <td>1</td>\n      <td>2</td>\n      <td>0</td>\n      <td>2</td>\n      <td>2</td>\n      <td>2</td>\n    </tr>\n  </tbody>\n</table>\n</div>"
     },
     "execution_count": 31,
     "metadata": {},
     "output_type": "execute_result"
    }
   ],
   "source": [
    "orgs = data.sort_values('org_id').loc[:, 'org_id'].values\n",
    "columns = ['org'] + ['nn_{}'.format(i) for i in range(1,20)]\n",
    "df_nn = pd.DataFrame(data=orgs[ind], columns=columns)\n",
    "df_nn.head(5)"
   ],
   "metadata": {
    "collapsed": false,
    "pycharm": {
     "name": "#%%\n"
    }
   }
  },
  {
   "cell_type": "code",
   "execution_count": 29,
   "outputs": [
    {
     "data": {
      "text/plain": "   user  nn_1  nn_2  nn_3  nn_4  nn_5  nn_6  nn_7  nn_8  nn_9  nn_10  nn_11  \\\n0     0    10     8     2     5     5     7     6     3     2      6      9   \n1     1    10     8     5     2     0     5     7     6     3      2      6   \n2     1    10     8     5     2     0     5     7     6     3      2      6   \n3     1    10     8     2     5     0     5     7     6     3      2      6   \n4     2    10     8     5     2     0     5     7     6     3      6      4   \n\n   nn_12  nn_13  nn_14  nn_15  nn_16  nn_17  nn_18  nn_19  \n0      4      1      4      7      1      1      2      7  \n1      4      9      4      1      7      1      2      7  \n2      9      4      4      7      1      1      2      7  \n3      9      4      1      4      7      1      2      7  \n4      9      4      1      7      1      1      2      7  ",
      "text/html": "<div>\n<style scoped>\n    .dataframe tbody tr th:only-of-type {\n        vertical-align: middle;\n    }\n\n    .dataframe tbody tr th {\n        vertical-align: top;\n    }\n\n    .dataframe thead th {\n        text-align: right;\n    }\n</style>\n<table border=\"1\" class=\"dataframe\">\n  <thead>\n    <tr style=\"text-align: right;\">\n      <th></th>\n      <th>user</th>\n      <th>nn_1</th>\n      <th>nn_2</th>\n      <th>nn_3</th>\n      <th>nn_4</th>\n      <th>nn_5</th>\n      <th>nn_6</th>\n      <th>nn_7</th>\n      <th>nn_8</th>\n      <th>nn_9</th>\n      <th>nn_10</th>\n      <th>nn_11</th>\n      <th>nn_12</th>\n      <th>nn_13</th>\n      <th>nn_14</th>\n      <th>nn_15</th>\n      <th>nn_16</th>\n      <th>nn_17</th>\n      <th>nn_18</th>\n      <th>nn_19</th>\n    </tr>\n  </thead>\n  <tbody>\n    <tr>\n      <th>0</th>\n      <td>0</td>\n      <td>10</td>\n      <td>8</td>\n      <td>2</td>\n      <td>5</td>\n      <td>5</td>\n      <td>7</td>\n      <td>6</td>\n      <td>3</td>\n      <td>2</td>\n      <td>6</td>\n      <td>9</td>\n      <td>4</td>\n      <td>1</td>\n      <td>4</td>\n      <td>7</td>\n      <td>1</td>\n      <td>1</td>\n      <td>2</td>\n      <td>7</td>\n    </tr>\n    <tr>\n      <th>1</th>\n      <td>1</td>\n      <td>10</td>\n      <td>8</td>\n      <td>5</td>\n      <td>2</td>\n      <td>0</td>\n      <td>5</td>\n      <td>7</td>\n      <td>6</td>\n      <td>3</td>\n      <td>2</td>\n      <td>6</td>\n      <td>4</td>\n      <td>9</td>\n      <td>4</td>\n      <td>1</td>\n      <td>7</td>\n      <td>1</td>\n      <td>2</td>\n      <td>7</td>\n    </tr>\n    <tr>\n      <th>2</th>\n      <td>1</td>\n      <td>10</td>\n      <td>8</td>\n      <td>5</td>\n      <td>2</td>\n      <td>0</td>\n      <td>5</td>\n      <td>7</td>\n      <td>6</td>\n      <td>3</td>\n      <td>2</td>\n      <td>6</td>\n      <td>9</td>\n      <td>4</td>\n      <td>4</td>\n      <td>7</td>\n      <td>1</td>\n      <td>1</td>\n      <td>2</td>\n      <td>7</td>\n    </tr>\n    <tr>\n      <th>3</th>\n      <td>1</td>\n      <td>10</td>\n      <td>8</td>\n      <td>2</td>\n      <td>5</td>\n      <td>0</td>\n      <td>5</td>\n      <td>7</td>\n      <td>6</td>\n      <td>3</td>\n      <td>2</td>\n      <td>6</td>\n      <td>9</td>\n      <td>4</td>\n      <td>1</td>\n      <td>4</td>\n      <td>7</td>\n      <td>1</td>\n      <td>2</td>\n      <td>7</td>\n    </tr>\n    <tr>\n      <th>4</th>\n      <td>2</td>\n      <td>10</td>\n      <td>8</td>\n      <td>5</td>\n      <td>2</td>\n      <td>0</td>\n      <td>5</td>\n      <td>7</td>\n      <td>6</td>\n      <td>3</td>\n      <td>6</td>\n      <td>4</td>\n      <td>9</td>\n      <td>4</td>\n      <td>1</td>\n      <td>7</td>\n      <td>1</td>\n      <td>1</td>\n      <td>2</td>\n      <td>7</td>\n    </tr>\n  </tbody>\n</table>\n</div>"
     },
     "execution_count": 29,
     "metadata": {},
     "output_type": "execute_result"
    }
   ],
   "source": [
    "nn = NearestNeighbors(n_neighbors=20)\n",
    "\n",
    "nn.fit(u)\n",
    "_, ind = nn.kneighbors(u, n_neighbors=20)\n",
    "\n",
    "users_nn = data.sort_values('user_id').loc[:, 'user_id'].values\n",
    "columns = ['user'] + ['nn_{}'.format(i) for i in range(1,20)]\n",
    "df_nn = pd.DataFrame(data=users_nn[ind], columns=columns)\n",
    "df_nn.head(5)"
   ],
   "metadata": {
    "collapsed": false,
    "pycharm": {
     "name": "#%%\n"
    }
   }
  },
  {
   "cell_type": "code",
   "execution_count": 54,
   "outputs": [
    {
     "data": {
      "text/plain": "                    org_id  average_bill  rating rubrics_id features_id  \\\n55731  7154086032495001965           NaN     5.0    [30776]     [20422]   \n\n       org_msk  org_spb  \n55731        1        0  ",
      "text/html": "<div>\n<style scoped>\n    .dataframe tbody tr th:only-of-type {\n        vertical-align: middle;\n    }\n\n    .dataframe tbody tr th {\n        vertical-align: top;\n    }\n\n    .dataframe thead th {\n        text-align: right;\n    }\n</style>\n<table border=\"1\" class=\"dataframe\">\n  <thead>\n    <tr style=\"text-align: right;\">\n      <th></th>\n      <th>org_id</th>\n      <th>average_bill</th>\n      <th>rating</th>\n      <th>rubrics_id</th>\n      <th>features_id</th>\n      <th>org_msk</th>\n      <th>org_spb</th>\n    </tr>\n  </thead>\n  <tbody>\n    <tr>\n      <th>55731</th>\n      <td>7154086032495001965</td>\n      <td>NaN</td>\n      <td>5.0</td>\n      <td>[30776]</td>\n      <td>[20422]</td>\n      <td>1</td>\n      <td>0</td>\n    </tr>\n  </tbody>\n</table>\n</div>"
     },
     "execution_count": 54,
     "metadata": {},
     "output_type": "execute_result"
    }
   ],
   "source": [
    "organisations.head(3)\n",
    "org = organisations.sort_values('rating', ascending=False).loc[:, \"org_id\"].values\n",
    "\n",
    "org = pd.DataFrame(data=org)\n",
    "rate = organisations.loc[organisations['org_id'] == 7154086032495001965]\n",
    "rate.head()"
   ],
   "metadata": {
    "collapsed": false,
    "pycharm": {
     "name": "#%%\n"
    }
   }
  }
 ],
 "metadata": {
  "kernelspec": {
   "display_name": "Python 3",
   "language": "python",
   "name": "python3"
  },
  "language_info": {
   "codemirror_mode": {
    "name": "ipython",
    "version": 2
   },
   "file_extension": ".py",
   "mimetype": "text/x-python",
   "name": "python",
   "nbconvert_exporter": "python",
   "pygments_lexer": "ipython2",
   "version": "2.7.6"
  }
 },
 "nbformat": 4,
 "nbformat_minor": 0
}