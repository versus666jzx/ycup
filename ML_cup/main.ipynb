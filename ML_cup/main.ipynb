{
 "cells": [
  {
   "cell_type": "code",
   "source": [
    "import numpy as np\n",
    "import pandas as pd\n",
    "\n",
    "import matplotlib.pyplot as plt\n",
    "import seaborn as sns\n",
    "\n",
    "from scipy import sparse\n",
    "from scipy.linalg import svd\n",
    "from tqdm.notebook import tqdm\n",
    "\n",
    "%matplotlib inline"
   ],
   "metadata": {
    "collapsed": false,
    "pycharm": {
     "name": "#%%\n"
    }
   },
   "execution_count": 72,
   "outputs": []
  },
  {
   "cell_type": "markdown",
   "source": [
    "### Загрузим данные"
   ],
   "metadata": {
    "collapsed": false,
    "pycharm": {
     "name": "#%% md\n"
    }
   }
  },
  {
   "cell_type": "code",
   "execution_count": 73,
   "outputs": [],
   "source": [
    "users = pd.read_csv('data/users.csv', low_memory=False)\n",
    "organisations = pd.read_csv('data/organisations.csv', low_memory=False)\n",
    "features = pd.read_csv('data/features.csv', low_memory=False)\n",
    "aspects = pd.read_csv('data/aspects.csv', low_memory=False)\n",
    "rubricks = pd.read_csv('data/rubrics.csv', low_memory=False)\n",
    "reviews = pd.read_csv('data/reviews.csv', low_memory=False)\n",
    "\n",
    "\n",
    "to_list = lambda rubrics: [int(rubric) for rubric in str(rubrics).split(' ')]\n",
    "\n",
    "\n",
    "def apply_to_columns(df, columns, func=to_list):\n",
    "    for column in columns:\n",
    "        df.loc[~df[column].isnull(), column] = df.loc[~df[column].isnull(), column].apply(func)\n",
    "\n",
    "columns_to_int = ['rubrics_id', 'features_id']\n",
    "apply_to_columns(organisations, columns_to_int)"
   ],
   "metadata": {
    "collapsed": false,
    "pycharm": {
     "name": "#%%\n"
    }
   }
  },
  {
   "cell_type": "markdown",
   "source": [
    "### Попробуем реализовать алгоритм сингулярного разложения матриц\n",
    "(SVD - Singular-Value Decomposition)\n",
    "Для этого сначала преобразуем данные к матричному виду, где строка - пользователи,\n",
    "а столбцы - продукты, с котороыми пользователи взаимодействовали"
   ],
   "metadata": {
    "collapsed": false,
    "pycharm": {
     "name": "#%% md\n"
    }
   }
  },
  {
   "cell_type": "code",
   "execution_count": 74,
   "outputs": [
    {
     "name": "stderr",
     "output_type": "stream",
     "text": [
      "C:\\Users\\A4F7~1\\AppData\\Local\\Temp/ipykernel_9936/2746608264.py:12: PerformanceWarning: DataFrame is highly fragmented.  This is usually the result of calling `frame.insert` many times, which has poor performance.  Consider joining all columns at once using pd.concat(axis=1) instead.  To get a de-fragmented frame, use `newframe = frame.copy()`\n",
      "  data[column_name] = 0\n"
     ]
    },
    {
     "name": "stdout",
     "output_type": "stream",
     "text": [
      "(3640835, 228)\n",
      "user_id          uint64\n",
      "user_city        object\n",
      "org_id           uint64\n",
      "user_rating     float64\n",
      "ts                int64\n",
      "aspects          object\n",
      "org_city         object\n",
      "average_bill    float64\n",
      "rating          float64\n",
      "rubrics_id       object\n",
      "features_id      object\n",
      "1                 int64\n",
      "2                 int64\n",
      "3                 int64\n",
      "4                 int64\n",
      "dtype: object\n"
     ]
    }
   ],
   "source": [
    "aspects_columns = [id for id, aspect in aspects.values]\n",
    "features_columns = [id for id, feature in features.values]\n",
    "rubricks_columns = [id for id, rubrick in rubricks.values]\n",
    "columns = aspects_columns + features_columns + rubricks_columns\n",
    "\n",
    "data = users.merge(reviews, on=\"user_id\")\n",
    "data = data.rename({\"city\": \"user_city\", 'rating': 'user_rating'}, axis=1)\n",
    "data = data.merge(organisations, on=\"org_id\")\n",
    "data = data.rename({\"city\": \"org_city\"}, axis=1)\n",
    "\n",
    "for column_name in columns:\n",
    "    data[column_name] = 0\n",
    "\n",
    "print(data.shape)\n",
    "print(data.dtypes.head(15))"
   ],
   "metadata": {
    "collapsed": false,
    "pycharm": {
     "name": "#%%\n"
    }
   }
  },
  {
   "cell_type": "markdown",
   "source": [
    "Получили датасет размерностью (3640835, 223)\n",
    "Теперь необходимо заполнить новые колонки данными"
   ],
   "metadata": {
    "collapsed": false
   }
  },
  {
   "cell_type": "code",
   "execution_count": 92,
   "outputs": [
    {
     "data": {
      "text/plain": "  0%|          | 0/3640835 [00:00<?, ?it/s]",
      "application/vnd.jupyter.widget-view+json": {
       "version_major": 2,
       "version_minor": 0,
       "model_id": "376e7096fe9c49c9a75682154cac5c4a"
      }
     },
     "metadata": {},
     "output_type": "display_data"
    },
    {
     "name": "stdout",
     "output_type": "stream",
     "text": [
      "                user_id user_city               org_id  user_rating    ts  \\\n",
      "0    523295021912509756       msk  5145242920031317950          5.0   819   \n",
      "1    362006428924147790       msk  5145242920031317950          5.0   839   \n",
      "2  10686793557064657689       msk  5145242920031317950          5.0   975   \n",
      "3   9907863350447728102       msk  5145242920031317950          5.0  1145   \n",
      "4  13999966736615242178       msk  5145242920031317950          5.0  1093   \n",
      "5   9199988279729242755       msk  5145242920031317950          4.0   876   \n",
      "6  10533787511801499419       msk  5145242920031317950          5.0   923   \n",
      "7   2065536097155165002       msk  5145242920031317950          4.0  1095   \n",
      "8   9165256876644519976       msk  5145242920031317950          5.0   920   \n",
      "9   8752067030694028029       msk  5145242920031317950          5.0  1001   \n",
      "\n",
      "  aspects org_city  average_bill    rating rubrics_id  ...    0         2  \\\n",
      "0     NaN      msk         500.0  4.934783    [31495]  ...  NaN  NaN  NaN   \n",
      "1  10 274      msk         500.0  4.934783    [31495]  ...  1.0  1.0  1.0   \n",
      "2     NaN      msk         500.0  4.934783    [31495]  ...  NaN  NaN  NaN   \n",
      "3     NaN      msk         500.0  4.934783    [31495]  ...  NaN  NaN  NaN   \n",
      "4  6 9 10      msk         500.0  4.934783    [31495]  ...  1.0  1.0  NaN   \n",
      "5   9 307      msk         500.0  4.934783    [31495]  ...  1.0  1.0  NaN   \n",
      "6      10      msk         500.0  4.934783    [31495]  ...  1.0  NaN  NaN   \n",
      "7     NaN      msk         500.0  4.934783    [31495]  ...  NaN  NaN  NaN   \n",
      "8     307      msk         500.0  4.934783    [31495]  ...  1.0  NaN  NaN   \n",
      "9      10      msk         500.0  4.934783    [31495]  ...  1.0  NaN  NaN   \n",
      "\n",
      "     7    4    6    9    3   8   5  \n",
      "0  NaN  NaN  NaN  NaN  NaN NaN NaN  \n",
      "1  1.0  1.0  NaN  NaN  NaN NaN NaN  \n",
      "2  NaN  NaN  NaN  NaN  NaN NaN NaN  \n",
      "3  NaN  NaN  NaN  NaN  NaN NaN NaN  \n",
      "4  NaN  NaN  1.0  1.0  NaN NaN NaN  \n",
      "5  1.0  NaN  NaN  1.0  1.0 NaN NaN  \n",
      "6  NaN  NaN  NaN  NaN  NaN NaN NaN  \n",
      "7  NaN  NaN  NaN  NaN  NaN NaN NaN  \n",
      "8  1.0  NaN  NaN  NaN  1.0 NaN NaN  \n",
      "9  NaN  NaN  NaN  NaN  NaN NaN NaN  \n",
      "\n",
      "[10 rows x 239 columns]\n"
     ]
    }
   ],
   "source": [
    "for row in tqdm(range(0, len(data))):\n",
    "    if data.iloc[row, 5] is not np.nan:\n",
    "        for aspect in data.iloc[row, 5]:\n",
    "            data._set_value(row, aspect, 1)\n",
    "    if data.iloc[row, 10] is not np.nan:\n",
    "        for feature in data.iloc[row, 10]:\n",
    "            data._set_value(row, feature, 1)\n",
    "    for rubrick in data.iloc[row, 9]:\n",
    "        data._set_value(row, rubrick, 1)\n",
    "\n",
    "print(data.head(10))"
   ],
   "metadata": {
    "collapsed": false,
    "pycharm": {
     "name": "#%%\n"
    }
   }
  },
  {
   "cell_type": "markdown",
   "source": [
    "### Отбросим более не нужные колонки и заменим nan на 0"
   ],
   "metadata": {
    "collapsed": false,
    "pycharm": {
     "name": "#%% md\n"
    }
   }
  },
  {
   "cell_type": "code",
   "execution_count": 96,
   "outputs": [
    {
     "name": "stdout",
     "output_type": "stream",
     "text": [
      "                user_id user_city               org_id  user_rating    ts  \\\n",
      "0    523295021912509756       msk  5145242920031317950          5.0   819   \n",
      "1    362006428924147790       msk  5145242920031317950          5.0   839   \n",
      "2  10686793557064657689       msk  5145242920031317950          5.0   975   \n",
      "3   9907863350447728102       msk  5145242920031317950          5.0  1145   \n",
      "4  13999966736615242178       msk  5145242920031317950          5.0  1093   \n",
      "5   9199988279729242755       msk  5145242920031317950          4.0   876   \n",
      "6  10533787511801499419       msk  5145242920031317950          5.0   923   \n",
      "7   2065536097155165002       msk  5145242920031317950          4.0  1095   \n",
      "8   9165256876644519976       msk  5145242920031317950          5.0   920   \n",
      "9   8752067030694028029       msk  5145242920031317950          5.0  1001   \n",
      "\n",
      "  org_city  average_bill    rating  1  2  ...    0         2    7    4    6  \\\n",
      "0      msk         500.0  4.934783  0  0  ...  0.0  0.0  0.0  0.0  0.0  0.0   \n",
      "1      msk         500.0  4.934783  0  0  ...  1.0  1.0  1.0  1.0  1.0  0.0   \n",
      "2      msk         500.0  4.934783  0  0  ...  0.0  0.0  0.0  0.0  0.0  0.0   \n",
      "3      msk         500.0  4.934783  0  0  ...  0.0  0.0  0.0  0.0  0.0  0.0   \n",
      "4      msk         500.0  4.934783  0  0  ...  1.0  1.0  0.0  0.0  0.0  1.0   \n",
      "5      msk         500.0  4.934783  0  0  ...  1.0  1.0  0.0  1.0  0.0  0.0   \n",
      "6      msk         500.0  4.934783  0  0  ...  1.0  0.0  0.0  0.0  0.0  0.0   \n",
      "7      msk         500.0  4.934783  0  0  ...  0.0  0.0  0.0  0.0  0.0  0.0   \n",
      "8      msk         500.0  4.934783  0  0  ...  1.0  0.0  0.0  1.0  0.0  0.0   \n",
      "9      msk         500.0  4.934783  0  0  ...  1.0  0.0  0.0  0.0  0.0  0.0   \n",
      "\n",
      "     9    3    8    5  \n",
      "0  0.0  0.0  0.0  0.0  \n",
      "1  0.0  0.0  0.0  0.0  \n",
      "2  0.0  0.0  0.0  0.0  \n",
      "3  0.0  0.0  0.0  0.0  \n",
      "4  1.0  0.0  0.0  0.0  \n",
      "5  1.0  1.0  0.0  0.0  \n",
      "6  0.0  0.0  0.0  0.0  \n",
      "7  0.0  0.0  0.0  0.0  \n",
      "8  0.0  1.0  0.0  0.0  \n",
      "9  0.0  0.0  0.0  0.0  \n",
      "\n",
      "[10 rows x 236 columns]\n"
     ]
    }
   ],
   "source": [
    "data = data.drop(data.columns[[5, 9, 10]], axis=1)\n",
    "data = data.fillna(0)\n",
    "print(data.head(10))\n"
   ],
   "metadata": {
    "collapsed": false,
    "pycharm": {
     "name": "#%%\n"
    }
   }
  }
 ],
 "metadata": {
  "kernelspec": {
   "display_name": "Python 3",
   "language": "python",
   "name": "python3"
  },
  "language_info": {
   "codemirror_mode": {
    "name": "ipython",
    "version": 2
   },
   "file_extension": ".py",
   "mimetype": "text/x-python",
   "name": "python",
   "nbconvert_exporter": "python",
   "pygments_lexer": "ipython2",
   "version": "2.7.6"
  }
 },
 "nbformat": 4,
 "nbformat_minor": 0
}