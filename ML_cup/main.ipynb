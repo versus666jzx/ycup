{
 "cells": [
  {
   "cell_type": "code",
   "source": [
    "import numpy as np\n",
    "import pandas as pd\n",
    "\n",
    "import matplotlib.pyplot as plt\n",
    "import seaborn as sns\n",
    "\n",
    "from scipy import sparse\n",
    "from scipy.linalg import svd\n",
    "from tqdm.notebook import tqdm\n",
    "\n",
    "%matplotlib inline"
   ],
   "metadata": {
    "collapsed": false,
    "pycharm": {
     "name": "#%%\n"
    }
   },
   "execution_count": 1,
   "outputs": []
  },
  {
   "cell_type": "markdown",
   "source": [
    "### Загрузим данные"
   ],
   "metadata": {
    "collapsed": false,
    "pycharm": {
     "name": "#%% md\n"
    }
   }
  },
  {
   "cell_type": "code",
   "execution_count": 6,
   "outputs": [],
   "source": [
    "users = pd.read_csv('data/users.csv', low_memory=False)\n",
    "organisations = pd.read_csv('data/organisations.csv', low_memory=False)\n",
    "features = pd.read_csv('data/features.csv', low_memory=False)\n",
    "aspects = pd.read_csv('data/aspects.csv', low_memory=False)\n",
    "rubricks = pd.read_csv('data/rubrics.csv', low_memory=False)\n",
    "reviews = pd.read_csv('data/reviews.csv', low_memory=False)\n",
    "\n",
    "\n",
    "to_list = lambda rubrics: [int(rubric) for rubric in str(rubrics).split(' ')]\n",
    "\n",
    "\n",
    "def apply_to_columns(df, columns, func=to_list):\n",
    "    for column in columns:\n",
    "        df.loc[~df[column].isnull(), column] = df.loc[~df[column].isnull(), column].apply(func)\n",
    "\n",
    "columns_to_int = ['rubrics_id', 'features_id']\n",
    "apply_to_columns(organisations, columns_to_int)\n",
    "\n",
    "columns_to_int = ['aspects']\n",
    "apply_to_columns(reviews, columns_to_int)"
   ],
   "metadata": {
    "collapsed": false,
    "pycharm": {
     "name": "#%%\n"
    }
   }
  },
  {
   "cell_type": "markdown",
   "source": [
    "### Закодируем расположение города пользователя и организации методом one-hot-encoding"
   ],
   "metadata": {
    "collapsed": false
   }
  },
  {
   "cell_type": "code",
   "execution_count": 7,
   "outputs": [],
   "source": [
    "users = pd.get_dummies(users, columns=['city'], prefix='user')\n",
    "organisations = pd.get_dummies(organisations, columns=['city'], prefix='org')"
   ],
   "metadata": {
    "collapsed": false,
    "pycharm": {
     "name": "#%%\n"
    }
   }
  },
  {
   "cell_type": "markdown",
   "source": [
    "### Попробуем реализовать алгоритм сингулярного разложения матриц\n",
    "(SVD - Singular-Value Decomposition)\n",
    "Для этого сначала преобразуем данные к матричному виду, где строка - пользователи,\n",
    "а столбцы - продукты, с котороыми пользователи взаимодействовали"
   ],
   "metadata": {
    "collapsed": false,
    "pycharm": {
     "name": "#%% md\n"
    }
   }
  },
  {
   "cell_type": "code",
   "execution_count": 8,
   "outputs": [
    {
     "name": "stderr",
     "output_type": "stream",
     "text": [
      "C:\\Users\\A4F7~1\\AppData\\Local\\Temp/ipykernel_12328/2093021509.py:11: PerformanceWarning: DataFrame is highly fragmented.  This is usually the result of calling `frame.insert` many times, which has poor performance.  Consider joining all columns at once using pd.concat(axis=1) instead.  To get a de-fragmented frame, use `newframe = frame.copy()`\n",
      "  data[column_name] = float(0)\n"
     ]
    },
    {
     "data": {
      "text/plain": "              user_id  user_msk  user_spb               org_id  user_rating  \\\n0  523295021912509756         1         0  5145242920031317950          5.0   \n1  362006428924147790         1         0  5145242920031317950          5.0   \n\n    ts    aspects  average_bill  org_rating rubrics_id  ... 30776  30777  \\\n0  819        NaN         500.0    4.934783    [31495]  ...   0.0    0.0   \n1  839  [10, 274]         500.0    4.934783    [31495]  ...   0.0    0.0   \n\n   31286  31350  31375  31401  31495  3108292683  3501514558  3501750896  \n0    0.0    0.0    0.0    0.0    0.0         0.0         0.0         0.0  \n1    0.0    0.0    0.0    0.0    0.0         0.0         0.0         0.0  \n\n[2 rows x 230 columns]",
      "text/html": "<div>\n<style scoped>\n    .dataframe tbody tr th:only-of-type {\n        vertical-align: middle;\n    }\n\n    .dataframe tbody tr th {\n        vertical-align: top;\n    }\n\n    .dataframe thead th {\n        text-align: right;\n    }\n</style>\n<table border=\"1\" class=\"dataframe\">\n  <thead>\n    <tr style=\"text-align: right;\">\n      <th></th>\n      <th>user_id</th>\n      <th>user_msk</th>\n      <th>user_spb</th>\n      <th>org_id</th>\n      <th>user_rating</th>\n      <th>ts</th>\n      <th>aspects</th>\n      <th>average_bill</th>\n      <th>org_rating</th>\n      <th>rubrics_id</th>\n      <th>...</th>\n      <th>30776</th>\n      <th>30777</th>\n      <th>31286</th>\n      <th>31350</th>\n      <th>31375</th>\n      <th>31401</th>\n      <th>31495</th>\n      <th>3108292683</th>\n      <th>3501514558</th>\n      <th>3501750896</th>\n    </tr>\n  </thead>\n  <tbody>\n    <tr>\n      <th>0</th>\n      <td>523295021912509756</td>\n      <td>1</td>\n      <td>0</td>\n      <td>5145242920031317950</td>\n      <td>5.0</td>\n      <td>819</td>\n      <td>NaN</td>\n      <td>500.0</td>\n      <td>4.934783</td>\n      <td>[31495]</td>\n      <td>...</td>\n      <td>0.0</td>\n      <td>0.0</td>\n      <td>0.0</td>\n      <td>0.0</td>\n      <td>0.0</td>\n      <td>0.0</td>\n      <td>0.0</td>\n      <td>0.0</td>\n      <td>0.0</td>\n      <td>0.0</td>\n    </tr>\n    <tr>\n      <th>1</th>\n      <td>362006428924147790</td>\n      <td>1</td>\n      <td>0</td>\n      <td>5145242920031317950</td>\n      <td>5.0</td>\n      <td>839</td>\n      <td>[10, 274]</td>\n      <td>500.0</td>\n      <td>4.934783</td>\n      <td>[31495]</td>\n      <td>...</td>\n      <td>0.0</td>\n      <td>0.0</td>\n      <td>0.0</td>\n      <td>0.0</td>\n      <td>0.0</td>\n      <td>0.0</td>\n      <td>0.0</td>\n      <td>0.0</td>\n      <td>0.0</td>\n      <td>0.0</td>\n    </tr>\n  </tbody>\n</table>\n<p>2 rows × 230 columns</p>\n</div>"
     },
     "execution_count": 8,
     "metadata": {},
     "output_type": "execute_result"
    }
   ],
   "source": [
    "aspects_columns = [id for id, aspect in aspects.values]\n",
    "features_columns = [id for id, feature in features.values]\n",
    "rubricks_columns = [id for id, rubrick in rubricks.values]\n",
    "columns = aspects_columns + features_columns + rubricks_columns\n",
    "\n",
    "data = users.merge(reviews, on=\"user_id\")\n",
    "data = data.merge(organisations, on=\"org_id\")\n",
    "data = data.rename({'rating_x': 'user_rating', 'rating_y': 'org_rating'}, axis=1)\n",
    "\n",
    "for column_name in columns:\n",
    "    data[column_name] = float(0)\n",
    "\n",
    "data.head(2)"
   ],
   "metadata": {
    "collapsed": false,
    "pycharm": {
     "name": "#%%\n"
    }
   }
  },
  {
   "cell_type": "markdown",
   "source": [
    "Получили датасет размерностью (3640835, 223)\n",
    "Теперь необходимо заполнить новые колонки данными"
   ],
   "metadata": {
    "collapsed": false
   }
  },
  {
   "cell_type": "code",
   "execution_count": 9,
   "outputs": [
    {
     "data": {
      "text/plain": "  0%|          | 0/3640835 [00:00<?, ?it/s]",
      "application/vnd.jupyter.widget-view+json": {
       "version_major": 2,
       "version_minor": 0,
       "model_id": "c512ac5359484ad0ab178bc09f90a120"
      }
     },
     "metadata": {},
     "output_type": "display_data"
    },
    {
     "data": {
      "text/plain": "              user_id  user_msk  user_spb               org_id  user_rating  \\\n0  523295021912509756         1         0  5145242920031317950          5.0   \n1  362006428924147790         1         0  5145242920031317950          5.0   \n\n    ts    aspects  average_bill  org_rating rubrics_id  ... 30776  30777  \\\n0  819        NaN         500.0    4.934783    [31495]  ...   0.0    0.0   \n1  839  [10, 274]         500.0    4.934783    [31495]  ...   0.0    0.0   \n\n   31286  31350  31375  31401  31495  3108292683  3501514558  3501750896  \n0    0.0    0.0    0.0    0.0    1.0         0.0         0.0         0.0  \n1    0.0    0.0    0.0    0.0    0.0         0.0         0.0         0.0  \n\n[2 rows x 230 columns]",
      "text/html": "<div>\n<style scoped>\n    .dataframe tbody tr th:only-of-type {\n        vertical-align: middle;\n    }\n\n    .dataframe tbody tr th {\n        vertical-align: top;\n    }\n\n    .dataframe thead th {\n        text-align: right;\n    }\n</style>\n<table border=\"1\" class=\"dataframe\">\n  <thead>\n    <tr style=\"text-align: right;\">\n      <th></th>\n      <th>user_id</th>\n      <th>user_msk</th>\n      <th>user_spb</th>\n      <th>org_id</th>\n      <th>user_rating</th>\n      <th>ts</th>\n      <th>aspects</th>\n      <th>average_bill</th>\n      <th>org_rating</th>\n      <th>rubrics_id</th>\n      <th>...</th>\n      <th>30776</th>\n      <th>30777</th>\n      <th>31286</th>\n      <th>31350</th>\n      <th>31375</th>\n      <th>31401</th>\n      <th>31495</th>\n      <th>3108292683</th>\n      <th>3501514558</th>\n      <th>3501750896</th>\n    </tr>\n  </thead>\n  <tbody>\n    <tr>\n      <th>0</th>\n      <td>523295021912509756</td>\n      <td>1</td>\n      <td>0</td>\n      <td>5145242920031317950</td>\n      <td>5.0</td>\n      <td>819</td>\n      <td>NaN</td>\n      <td>500.0</td>\n      <td>4.934783</td>\n      <td>[31495]</td>\n      <td>...</td>\n      <td>0.0</td>\n      <td>0.0</td>\n      <td>0.0</td>\n      <td>0.0</td>\n      <td>0.0</td>\n      <td>0.0</td>\n      <td>1.0</td>\n      <td>0.0</td>\n      <td>0.0</td>\n      <td>0.0</td>\n    </tr>\n    <tr>\n      <th>1</th>\n      <td>362006428924147790</td>\n      <td>1</td>\n      <td>0</td>\n      <td>5145242920031317950</td>\n      <td>5.0</td>\n      <td>839</td>\n      <td>[10, 274]</td>\n      <td>500.0</td>\n      <td>4.934783</td>\n      <td>[31495]</td>\n      <td>...</td>\n      <td>0.0</td>\n      <td>0.0</td>\n      <td>0.0</td>\n      <td>0.0</td>\n      <td>0.0</td>\n      <td>0.0</td>\n      <td>0.0</td>\n      <td>0.0</td>\n      <td>0.0</td>\n      <td>0.0</td>\n    </tr>\n  </tbody>\n</table>\n<p>2 rows × 230 columns</p>\n</div>"
     },
     "execution_count": 9,
     "metadata": {},
     "output_type": "execute_result"
    }
   ],
   "source": [
    "for row in tqdm(range(0, len(data))):\n",
    "    if data.iloc[row, 6] is not np.nan:\n",
    "        for aspect in data.iloc[row, 6]:\n",
    "            data.at[row, aspect] = 1\n",
    "    if data.iloc[row, 10] is not np.nan:\n",
    "        for feature in data.iloc[row, 10]:\n",
    "            data.at[row, feature] = 1\n",
    "    for rubrick in data.iloc[row, 9]:\n",
    "        data.at[row, rubrick] = 1\n",
    "    break\n",
    "\n",
    "data.head(2)"
   ],
   "metadata": {
    "collapsed": false,
    "pycharm": {
     "name": "#%%\n"
    }
   }
  },
  {
   "cell_type": "markdown",
   "source": [
    "### Отбросим более не нужные колонки и заменим nan на 0"
   ],
   "metadata": {
    "collapsed": false,
    "pycharm": {
     "name": "#%% md\n"
    }
   }
  },
  {
   "cell_type": "code",
   "execution_count": 6,
   "outputs": [
    {
     "data": {
      "text/plain": "                user_id  user_msk  user_spb               org_id  rating_x  \\\n0    523295021912509756         1         0  5145242920031317950       5.0   \n1    362006428924147790         1         0  5145242920031317950       5.0   \n2  10686793557064657689         1         0  5145242920031317950       5.0   \n3   9907863350447728102         1         0  5145242920031317950       5.0   \n4  13999966736615242178         1         0  5145242920031317950       5.0   \n5   9199988279729242755         1         0  5145242920031317950       4.0   \n6  10533787511801499419         1         0  5145242920031317950       5.0   \n7   2065536097155165002         1         0  5145242920031317950       4.0   \n8   9165256876644519976         1         0  5145242920031317950       5.0   \n9   8752067030694028029         1         0  5145242920031317950       5.0   \n\n  aspects  average_bill  rating_y  org_msk  org_spb  ...    0         2    7  \\\n0       0         500.0  4.934783        1        0  ...  0.0  0.0  0.0  0.0   \n1  10 274         500.0  4.934783        1        0  ...  1.0  1.0  1.0  1.0   \n2       0         500.0  4.934783        1        0  ...  0.0  0.0  0.0  0.0   \n3       0         500.0  4.934783        1        0  ...  0.0  0.0  0.0  0.0   \n4  6 9 10         500.0  4.934783        1        0  ...  1.0  1.0  0.0  0.0   \n5   9 307         500.0  4.934783        1        0  ...  1.0  1.0  0.0  1.0   \n6      10         500.0  4.934783        1        0  ...  1.0  0.0  0.0  0.0   \n7       0         500.0  4.934783        1        0  ...  0.0  0.0  0.0  0.0   \n8     307         500.0  4.934783        1        0  ...  1.0  0.0  0.0  1.0   \n9      10         500.0  4.934783        1        0  ...  1.0  0.0  0.0  0.0   \n\n     4    6    9    3    8    5  \n0  0.0  0.0  0.0  0.0  0.0  0.0  \n1  1.0  0.0  0.0  0.0  0.0  0.0  \n2  0.0  0.0  0.0  0.0  0.0  0.0  \n3  0.0  0.0  0.0  0.0  0.0  0.0  \n4  0.0  1.0  1.0  0.0  0.0  0.0  \n5  0.0  0.0  1.0  1.0  0.0  0.0  \n6  0.0  0.0  0.0  0.0  0.0  0.0  \n7  0.0  0.0  0.0  0.0  0.0  0.0  \n8  0.0  0.0  0.0  1.0  0.0  0.0  \n9  0.0  0.0  0.0  0.0  0.0  0.0  \n\n[10 rows x 238 columns]",
      "text/html": "<div>\n<style scoped>\n    .dataframe tbody tr th:only-of-type {\n        vertical-align: middle;\n    }\n\n    .dataframe tbody tr th {\n        vertical-align: top;\n    }\n\n    .dataframe thead th {\n        text-align: right;\n    }\n</style>\n<table border=\"1\" class=\"dataframe\">\n  <thead>\n    <tr style=\"text-align: right;\">\n      <th></th>\n      <th>user_id</th>\n      <th>user_msk</th>\n      <th>user_spb</th>\n      <th>org_id</th>\n      <th>rating_x</th>\n      <th>aspects</th>\n      <th>average_bill</th>\n      <th>rating_y</th>\n      <th>org_msk</th>\n      <th>org_spb</th>\n      <th>...</th>\n      <th>0</th>\n      <th></th>\n      <th>2</th>\n      <th>7</th>\n      <th>4</th>\n      <th>6</th>\n      <th>9</th>\n      <th>3</th>\n      <th>8</th>\n      <th>5</th>\n    </tr>\n  </thead>\n  <tbody>\n    <tr>\n      <th>0</th>\n      <td>523295021912509756</td>\n      <td>1</td>\n      <td>0</td>\n      <td>5145242920031317950</td>\n      <td>5.0</td>\n      <td>0</td>\n      <td>500.0</td>\n      <td>4.934783</td>\n      <td>1</td>\n      <td>0</td>\n      <td>...</td>\n      <td>0.0</td>\n      <td>0.0</td>\n      <td>0.0</td>\n      <td>0.0</td>\n      <td>0.0</td>\n      <td>0.0</td>\n      <td>0.0</td>\n      <td>0.0</td>\n      <td>0.0</td>\n      <td>0.0</td>\n    </tr>\n    <tr>\n      <th>1</th>\n      <td>362006428924147790</td>\n      <td>1</td>\n      <td>0</td>\n      <td>5145242920031317950</td>\n      <td>5.0</td>\n      <td>10 274</td>\n      <td>500.0</td>\n      <td>4.934783</td>\n      <td>1</td>\n      <td>0</td>\n      <td>...</td>\n      <td>1.0</td>\n      <td>1.0</td>\n      <td>1.0</td>\n      <td>1.0</td>\n      <td>1.0</td>\n      <td>0.0</td>\n      <td>0.0</td>\n      <td>0.0</td>\n      <td>0.0</td>\n      <td>0.0</td>\n    </tr>\n    <tr>\n      <th>2</th>\n      <td>10686793557064657689</td>\n      <td>1</td>\n      <td>0</td>\n      <td>5145242920031317950</td>\n      <td>5.0</td>\n      <td>0</td>\n      <td>500.0</td>\n      <td>4.934783</td>\n      <td>1</td>\n      <td>0</td>\n      <td>...</td>\n      <td>0.0</td>\n      <td>0.0</td>\n      <td>0.0</td>\n      <td>0.0</td>\n      <td>0.0</td>\n      <td>0.0</td>\n      <td>0.0</td>\n      <td>0.0</td>\n      <td>0.0</td>\n      <td>0.0</td>\n    </tr>\n    <tr>\n      <th>3</th>\n      <td>9907863350447728102</td>\n      <td>1</td>\n      <td>0</td>\n      <td>5145242920031317950</td>\n      <td>5.0</td>\n      <td>0</td>\n      <td>500.0</td>\n      <td>4.934783</td>\n      <td>1</td>\n      <td>0</td>\n      <td>...</td>\n      <td>0.0</td>\n      <td>0.0</td>\n      <td>0.0</td>\n      <td>0.0</td>\n      <td>0.0</td>\n      <td>0.0</td>\n      <td>0.0</td>\n      <td>0.0</td>\n      <td>0.0</td>\n      <td>0.0</td>\n    </tr>\n    <tr>\n      <th>4</th>\n      <td>13999966736615242178</td>\n      <td>1</td>\n      <td>0</td>\n      <td>5145242920031317950</td>\n      <td>5.0</td>\n      <td>6 9 10</td>\n      <td>500.0</td>\n      <td>4.934783</td>\n      <td>1</td>\n      <td>0</td>\n      <td>...</td>\n      <td>1.0</td>\n      <td>1.0</td>\n      <td>0.0</td>\n      <td>0.0</td>\n      <td>0.0</td>\n      <td>1.0</td>\n      <td>1.0</td>\n      <td>0.0</td>\n      <td>0.0</td>\n      <td>0.0</td>\n    </tr>\n    <tr>\n      <th>5</th>\n      <td>9199988279729242755</td>\n      <td>1</td>\n      <td>0</td>\n      <td>5145242920031317950</td>\n      <td>4.0</td>\n      <td>9 307</td>\n      <td>500.0</td>\n      <td>4.934783</td>\n      <td>1</td>\n      <td>0</td>\n      <td>...</td>\n      <td>1.0</td>\n      <td>1.0</td>\n      <td>0.0</td>\n      <td>1.0</td>\n      <td>0.0</td>\n      <td>0.0</td>\n      <td>1.0</td>\n      <td>1.0</td>\n      <td>0.0</td>\n      <td>0.0</td>\n    </tr>\n    <tr>\n      <th>6</th>\n      <td>10533787511801499419</td>\n      <td>1</td>\n      <td>0</td>\n      <td>5145242920031317950</td>\n      <td>5.0</td>\n      <td>10</td>\n      <td>500.0</td>\n      <td>4.934783</td>\n      <td>1</td>\n      <td>0</td>\n      <td>...</td>\n      <td>1.0</td>\n      <td>0.0</td>\n      <td>0.0</td>\n      <td>0.0</td>\n      <td>0.0</td>\n      <td>0.0</td>\n      <td>0.0</td>\n      <td>0.0</td>\n      <td>0.0</td>\n      <td>0.0</td>\n    </tr>\n    <tr>\n      <th>7</th>\n      <td>2065536097155165002</td>\n      <td>1</td>\n      <td>0</td>\n      <td>5145242920031317950</td>\n      <td>4.0</td>\n      <td>0</td>\n      <td>500.0</td>\n      <td>4.934783</td>\n      <td>1</td>\n      <td>0</td>\n      <td>...</td>\n      <td>0.0</td>\n      <td>0.0</td>\n      <td>0.0</td>\n      <td>0.0</td>\n      <td>0.0</td>\n      <td>0.0</td>\n      <td>0.0</td>\n      <td>0.0</td>\n      <td>0.0</td>\n      <td>0.0</td>\n    </tr>\n    <tr>\n      <th>8</th>\n      <td>9165256876644519976</td>\n      <td>1</td>\n      <td>0</td>\n      <td>5145242920031317950</td>\n      <td>5.0</td>\n      <td>307</td>\n      <td>500.0</td>\n      <td>4.934783</td>\n      <td>1</td>\n      <td>0</td>\n      <td>...</td>\n      <td>1.0</td>\n      <td>0.0</td>\n      <td>0.0</td>\n      <td>1.0</td>\n      <td>0.0</td>\n      <td>0.0</td>\n      <td>0.0</td>\n      <td>1.0</td>\n      <td>0.0</td>\n      <td>0.0</td>\n    </tr>\n    <tr>\n      <th>9</th>\n      <td>8752067030694028029</td>\n      <td>1</td>\n      <td>0</td>\n      <td>5145242920031317950</td>\n      <td>5.0</td>\n      <td>10</td>\n      <td>500.0</td>\n      <td>4.934783</td>\n      <td>1</td>\n      <td>0</td>\n      <td>...</td>\n      <td>1.0</td>\n      <td>0.0</td>\n      <td>0.0</td>\n      <td>0.0</td>\n      <td>0.0</td>\n      <td>0.0</td>\n      <td>0.0</td>\n      <td>0.0</td>\n      <td>0.0</td>\n      <td>0.0</td>\n    </tr>\n  </tbody>\n</table>\n<p>10 rows × 238 columns</p>\n</div>"
     },
     "execution_count": 6,
     "metadata": {},
     "output_type": "execute_result"
    }
   ],
   "source": [
    "data = data.drop(data.columns[[6, 9, 10]], axis=1)\n",
    "data.head(10)"
   ],
   "metadata": {
    "collapsed": false,
    "pycharm": {
     "name": "#%%\n"
    }
   }
  },
  {
   "cell_type": "code",
   "execution_count": 7,
   "outputs": [],
   "source": [
    "data.to_csv('data.csv')"
   ],
   "metadata": {
    "collapsed": false,
    "pycharm": {
     "name": "#%%\n"
    }
   }
  }
 ],
 "metadata": {
  "kernelspec": {
   "display_name": "Python 3",
   "language": "python",
   "name": "python3"
  },
  "language_info": {
   "codemirror_mode": {
    "name": "ipython",
    "version": 2
   },
   "file_extension": ".py",
   "mimetype": "text/x-python",
   "name": "python",
   "nbconvert_exporter": "python",
   "pygments_lexer": "ipython2",
   "version": "2.7.6"
  }
 },
 "nbformat": 4,
 "nbformat_minor": 0
}