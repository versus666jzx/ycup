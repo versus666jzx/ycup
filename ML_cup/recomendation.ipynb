{
 "cells": [
  {
   "cell_type": "code",
   "execution_count": 2,
   "metadata": {
    "collapsed": true,
    "pycharm": {
     "name": "#%%\n"
    }
   },
   "outputs": [],
   "source": [
    "import numpy as np\n",
    "import pandas as pd\n",
    "\n",
    "import matplotlib.pyplot as plt\n",
    "import seaborn as sns\n",
    "\n",
    "from scipy import sparse\n",
    "from tqdm.notebook import tqdm\n",
    "\n",
    "%matplotlib inline"
   ]
  },
  {
   "cell_type": "markdown",
   "source": [
    "Сырые данные\n",
    "Считываем данные из .csv¶\n",
    "\n",
    "Некоторые данные (такие как рубрики и признаки), представлены строками значений. Преобразуем их в списки чисел."
   ],
   "metadata": {
    "collapsed": false
   }
  },
  {
   "cell_type": "code",
   "execution_count": 3,
   "outputs": [
    {
     "data": {
      "text/plain": "                 org_id city  average_bill    rating      rubrics_id  \\\n0  16848414477362211020  spb        1000.0  4.479702  [30776, 31375]   \n1   1430604733320164116  spb        1000.0  4.514509  [30776, 30770]   \n2   9880309324224147401  spb        1000.0  3.884615  [30770, 30774]   \n3   5617879987171966456  spb        1000.0       NaN  [30774, 30775]   \n4   5241461680470612149  spb        1000.0  4.532468         [30776]   \n\n                                         features_id  \n0  [1018, 1509, 11177, 11617, 11629, 11704, 11867...  \n1  [246, 1018, 11617, 11629, 11704, 11867, 20422,...  \n2  [1018, 11177, 11617, 11629, 11704, 11867, 2042...  \n3  [1018, 1509, 10596, 11177, 11629, 11634, 11704...  \n4  [1018, 11177, 11617, 11629, 11704, 11867, 2042...  ",
      "text/html": "<div>\n<style scoped>\n    .dataframe tbody tr th:only-of-type {\n        vertical-align: middle;\n    }\n\n    .dataframe tbody tr th {\n        vertical-align: top;\n    }\n\n    .dataframe thead th {\n        text-align: right;\n    }\n</style>\n<table border=\"1\" class=\"dataframe\">\n  <thead>\n    <tr style=\"text-align: right;\">\n      <th></th>\n      <th>org_id</th>\n      <th>city</th>\n      <th>average_bill</th>\n      <th>rating</th>\n      <th>rubrics_id</th>\n      <th>features_id</th>\n    </tr>\n  </thead>\n  <tbody>\n    <tr>\n      <th>0</th>\n      <td>16848414477362211020</td>\n      <td>spb</td>\n      <td>1000.0</td>\n      <td>4.479702</td>\n      <td>[30776, 31375]</td>\n      <td>[1018, 1509, 11177, 11617, 11629, 11704, 11867...</td>\n    </tr>\n    <tr>\n      <th>1</th>\n      <td>1430604733320164116</td>\n      <td>spb</td>\n      <td>1000.0</td>\n      <td>4.514509</td>\n      <td>[30776, 30770]</td>\n      <td>[246, 1018, 11617, 11629, 11704, 11867, 20422,...</td>\n    </tr>\n    <tr>\n      <th>2</th>\n      <td>9880309324224147401</td>\n      <td>spb</td>\n      <td>1000.0</td>\n      <td>3.884615</td>\n      <td>[30770, 30774]</td>\n      <td>[1018, 11177, 11617, 11629, 11704, 11867, 2042...</td>\n    </tr>\n    <tr>\n      <th>3</th>\n      <td>5617879987171966456</td>\n      <td>spb</td>\n      <td>1000.0</td>\n      <td>NaN</td>\n      <td>[30774, 30775]</td>\n      <td>[1018, 1509, 10596, 11177, 11629, 11634, 11704...</td>\n    </tr>\n    <tr>\n      <th>4</th>\n      <td>5241461680470612149</td>\n      <td>spb</td>\n      <td>1000.0</td>\n      <td>4.532468</td>\n      <td>[30776]</td>\n      <td>[1018, 11177, 11617, 11629, 11704, 11867, 2042...</td>\n    </tr>\n  </tbody>\n</table>\n</div>"
     },
     "execution_count": 3,
     "metadata": {},
     "output_type": "execute_result"
    }
   ],
   "source": [
    "to_list = lambda rubrics: [int(rubric) for rubric in str(rubrics).split(' ')]\n",
    "def apply_to_columns(df, columns, func=to_list):\n",
    "    for column in columns:\n",
    "        df.loc[~df[column].isnull(), column] = df.loc[~df[column].isnull(), column].apply(func)\n",
    "\n",
    "users = pd.read_csv('data/users.csv')\n",
    "\n",
    "orgs = pd.read_csv('data/organisations.csv')\n",
    "\n",
    "# create lists\n",
    "columns = ['rubrics_id', 'features_id']\n",
    "apply_to_columns(orgs, columns)\n",
    "\n",
    "orgs.head()"
   ],
   "metadata": {
    "collapsed": false,
    "pycharm": {
     "name": "#%%\n"
    }
   }
  },
  {
   "cell_type": "markdown",
   "source": [
    "Чтобы не делать join каждый раз, когда нам потребуется узнать, из какого города организация или пользователь, сразу добавим эту информацию в отзывы."
   ],
   "metadata": {
    "collapsed": false
   }
  },
  {
   "cell_type": "code",
   "execution_count": 4,
   "outputs": [
    {
     "data": {
      "text/plain": "                user_id               org_id  rating    ts aspects user_city  \\\n0  16998268288908323644  7184895086928047809     2.0   105     NaN       msk   \n1   3121447338909258868  7184895086928047809     5.0   464     NaN       msk   \n2   1970649778250883025  7184895086928047809     3.0   789     NaN       msk   \n3   7554889464530643866  7184895086928047809     4.0   936     NaN       msk   \n4  15907910894057053620  7184895086928047809     1.0  1143     NaN       msk   \n\n  org_city  \n0      msk  \n1      msk  \n2      msk  \n3      msk  \n4      msk  ",
      "text/html": "<div>\n<style scoped>\n    .dataframe tbody tr th:only-of-type {\n        vertical-align: middle;\n    }\n\n    .dataframe tbody tr th {\n        vertical-align: top;\n    }\n\n    .dataframe thead th {\n        text-align: right;\n    }\n</style>\n<table border=\"1\" class=\"dataframe\">\n  <thead>\n    <tr style=\"text-align: right;\">\n      <th></th>\n      <th>user_id</th>\n      <th>org_id</th>\n      <th>rating</th>\n      <th>ts</th>\n      <th>aspects</th>\n      <th>user_city</th>\n      <th>org_city</th>\n    </tr>\n  </thead>\n  <tbody>\n    <tr>\n      <th>0</th>\n      <td>16998268288908323644</td>\n      <td>7184895086928047809</td>\n      <td>2.0</td>\n      <td>105</td>\n      <td>NaN</td>\n      <td>msk</td>\n      <td>msk</td>\n    </tr>\n    <tr>\n      <th>1</th>\n      <td>3121447338909258868</td>\n      <td>7184895086928047809</td>\n      <td>5.0</td>\n      <td>464</td>\n      <td>NaN</td>\n      <td>msk</td>\n      <td>msk</td>\n    </tr>\n    <tr>\n      <th>2</th>\n      <td>1970649778250883025</td>\n      <td>7184895086928047809</td>\n      <td>3.0</td>\n      <td>789</td>\n      <td>NaN</td>\n      <td>msk</td>\n      <td>msk</td>\n    </tr>\n    <tr>\n      <th>3</th>\n      <td>7554889464530643866</td>\n      <td>7184895086928047809</td>\n      <td>4.0</td>\n      <td>936</td>\n      <td>NaN</td>\n      <td>msk</td>\n      <td>msk</td>\n    </tr>\n    <tr>\n      <th>4</th>\n      <td>15907910894057053620</td>\n      <td>7184895086928047809</td>\n      <td>1.0</td>\n      <td>1143</td>\n      <td>NaN</td>\n      <td>msk</td>\n      <td>msk</td>\n    </tr>\n  </tbody>\n</table>\n</div>"
     },
     "execution_count": 4,
     "metadata": {},
     "output_type": "execute_result"
    }
   ],
   "source": [
    "reviews = pd.read_csv('data/reviews.csv', low_memory=False)\n",
    "\n",
    "# encode users ids as numeric\n",
    "reviews = reviews.merge(users, on='user_id')\n",
    "reviews = reviews.rename({'city': 'user_city'}, axis=1)\n",
    "\n",
    "# # encode orgs ids as numeric\n",
    "reviews = reviews.merge(orgs[['org_id', 'city']], on='org_id')\n",
    "reviews = reviews.rename({'city': 'org_city'}, axis=1)\n",
    "\n",
    "# # create lists\n",
    "columns = ['aspects']\n",
    "apply_to_columns(reviews, columns)\n",
    "\n",
    "reviews.head()"
   ],
   "metadata": {
    "collapsed": false,
    "pycharm": {
     "name": "#%%\n"
    }
   }
  },
  {
   "cell_type": "markdown",
   "source": [
    "Отлично, теперь с отзывами будет удобно работать.\n",
    "\n",
    "Посмотрим на распределение новых отзывов по дням, чтобы понять, как лучше организовать валидацию."
   ],
   "metadata": {
    "collapsed": false
   }
  },
  {
   "cell_type": "code",
   "execution_count": 5,
   "outputs": [
    {
     "data": {
      "text/plain": "<Figure size 576x576 with 1 Axes>",
      "image/png": "[encoded data removed]"
     },
     "metadata": {
      "needs_background": "light"
     },
     "output_type": "display_data"
    }
   ],
   "source": [
    "sns.displot(data=reviews, x='ts', height=8)\n",
    "plt.title('Распределение отзывов по дням')\n",
    "plt.show()"
   ],
   "metadata": {
    "collapsed": false,
    "pycharm": {
     "name": "#%%\n"
    }
   }
  },
  {
   "cell_type": "markdown",
   "source": [
    "Train-test split"
   ],
   "metadata": {
    "collapsed": false
   }
  },
  {
   "cell_type": "code",
   "execution_count": 6,
   "outputs": [],
   "source": [
    "def clear_df(df, suffixes=['_x', '_y'], inplace=True):\n",
    "    \"\"\"\n",
    "    clear_df(df, suffixes=['_x', '_y'], inplace=True)\n",
    "        Удаляет из входного df все колонки, оканчивающиеся на заданные суффиксы.\n",
    "\n",
    "        Parameters\n",
    "        ----------\n",
    "        df : pandas.DataFrame\n",
    "\n",
    "        suffixies : Iterable, default=['_x', '_y']\n",
    "            Суффиксы колонок, подлежащих удалению\n",
    "\n",
    "        inplace : bool, default=True\n",
    "            Нужно ли удалить колонки \"на месте\" или же создать копию DataFrame.\n",
    "\n",
    "        Returns\n",
    "        -------\n",
    "        pandas.DataFrame (optional)\n",
    "            df с удалёнными колонками\n",
    "    \"\"\"\n",
    "\n",
    "    def bad_suffix(column):\n",
    "        nonlocal suffixes\n",
    "        return any(column.endswith(suffix) for suffix in suffixes)\n",
    "\n",
    "    columns_to_drop = [col for col in df.columns if bad_suffix(col)]\n",
    "    return df.drop(columns_to_drop, axis=1, inplace=inplace)\n",
    "\n",
    "\n",
    "def extract_unique(reviews, column):\n",
    "    \"\"\"\n",
    "    extract_unique(reviews, column)\n",
    "        Извлекает уникальные значения из колонки в DataFrame.\n",
    "\n",
    "        Parameters\n",
    "        ----------\n",
    "        reviews : pandas.DataFrame\n",
    "            pandas.DataFrame, из которого будут извлечены значения.\n",
    "\n",
    "        column : str\n",
    "            Имя колонки в <reviews>.\n",
    "\n",
    "        Returns\n",
    "        -------\n",
    "        pandas.DataFrame\n",
    "            Содержит одну именованную колонку с уникальными значениями.\n",
    "    \"\"\"\n",
    "\n",
    "    unique = reviews[column].unique()\n",
    "    return pd.DataFrame({column: unique})\n",
    "\n",
    "\n",
    "def count_unique(reviews, column):\n",
    "    \"\"\"\n",
    "    count_unique(reviews, column)\n",
    "        Извлекает и подсчитывает уникальные значения из колонки в DataFrame.\n",
    "\n",
    "        Parameters\n",
    "        ----------\n",
    "        reviews : pandas.DataFrame\n",
    "            pandas.DataFrame, из которого будут извлечены значения.\n",
    "\n",
    "        column : str\n",
    "            Имя колонки в <reviews>.\n",
    "\n",
    "        Returns\n",
    "        -------\n",
    "        pandas.DataFrame\n",
    "            Содержит две колонки: с уникальными значениями и счётчиком встреченных.\n",
    "    \"\"\"\n",
    "\n",
    "    return reviews[column].value_counts().reset_index(name='count').rename({'index': column}, axis=1)\n",
    "\n",
    "\n",
    "\n",
    "def filter_reviews(reviews, users=None, orgs=None):\n",
    "    \"\"\"\n",
    "    filter_reviews(reviews, users=None, orgs=None)\n",
    "    Оставляет в выборке только отзывы, оставленные заданными пользователями на заданные организации.\n",
    "\n",
    "    Parameters\n",
    "    ----------\n",
    "        users: pandas.DataFrame, default=None\n",
    "            DataFrame, содержащий колонку <user_id>.\n",
    "            Если None, то фильтрация не происходит.\n",
    "\n",
    "        orgs: pandas.DataFrame, default=None\n",
    "            DataFrame, содержащий колонку <org_id>.\n",
    "            Если None, то фильтрация не происходит.\n",
    "\n",
    "    Returns\n",
    "    -------\n",
    "        pandas.DataFrame\n",
    "            Отфильтрованная выборка отзывов.\n",
    "\n",
    "    \"\"\"\n",
    "    if users is not None:\n",
    "        reviews = reviews.merge(users, on='user_id', how='inner')\n",
    "        clear_df(reviews)\n",
    "\n",
    "    if orgs is not None:\n",
    "        reviews = reviews.merge(orgs, on='org_id', how='inner')\n",
    "        clear_df(reviews)\n",
    "\n",
    "    return reviews\n",
    "\n",
    "\n",
    "def train_test_split(reviews, ts_start, ts_end=None):\n",
    "    \"\"\"\n",
    "    train_test_split(reviews, ts_start, ts_end=None)\n",
    "        Разделяет выборку отзывов на две части: обучающую и тестовую.\n",
    "        В тестовую выборку попадают только отзывы с user_id и org_id, встречающимися в обучающей выборке.\n",
    "\n",
    "        Parameters\n",
    "        ----------\n",
    "        reviews : pandas.DataFrame\n",
    "            Отзывы из reviews.csv с обязательными полями:\n",
    "                <rating>, <ts>, <user_id>, <user_city>, <org_id>, <org_city>.\n",
    "\n",
    "        ts_start : int\n",
    "            Первый день отзывов из тестовой выборки (включительно).\n",
    "\n",
    "        ts_end : int, default=None\n",
    "            Последний день отзывов из обучающей выборки (включительно)\n",
    "            Если параметр равен None, то ts_end == reviews['ts'].max().\n",
    "\n",
    "        Returns\n",
    "        -------\n",
    "        splitting : tuple\n",
    "            Кортеж из двух pandas.DataFrame такой же структуры, как и reviews:\n",
    "            в первом отзывы, попавшие в обучающую выборку, во втором - в тестовую.\n",
    "    \"\"\"\n",
    "\n",
    "    if not ts_end:\n",
    "        ts_end = reviews['ts'].max()\n",
    "\n",
    "\n",
    "    reviews_train = reviews[(reviews['ts'] < ts_start) | (reviews['ts'] > ts_end)]\n",
    "    reviews_test = reviews[(ts_start <= reviews['ts']) & (reviews['ts'] <= ts_end)]\n",
    "\n",
    "    # 1. Выбираем только отзывы на понравившиеся места у путешественников\n",
    "    reviews_test = reviews_test[reviews_test['rating'] >= 4.0]\n",
    "    reviews_test = reviews_test[reviews_test['user_city'] != reviews_test['org_city']]\n",
    "\n",
    "    # 2. Оставляем в тесте только тех пользователей и организации, которые встречались в трейне\n",
    "    train_orgs = extract_unique(reviews_train, 'org_id')\n",
    "    train_users = extract_unique(reviews_train, 'user_id')\n",
    "\n",
    "    reviews_test = filter_reviews(reviews_test, orgs=train_orgs)\n",
    "\n",
    "    return reviews_train, reviews_test\n",
    "\n",
    "\n",
    "def process_reviews(reviews):\n",
    "    \"\"\"\n",
    "    process_reviews(reviews)\n",
    "        Извлекает из набора отзывов тестовых пользователей и таргет.\n",
    "\n",
    "        Parameters\n",
    "        ----------\n",
    "        reviews : pandas.DataFrame\n",
    "            DataFrame с отзывами, содержащий колонки <user_id> и <org_id>\n",
    "\n",
    "        Returns\n",
    "        -------\n",
    "        X : pandas.DataFrame\n",
    "            DataFrame такой же структуры, как и в test_users.csv\n",
    "\n",
    "        y : pandas.DataFrame\n",
    "            DataFrame с колонками <user_id> и <target>.\n",
    "            В <target> содержится список org_id, посещённых пользователем.\n",
    "    \"\"\"\n",
    "\n",
    "    y = reviews.groupby('user_id')['org_id'].apply(list).reset_index(name='target')\n",
    "    X = pd.DataFrame(y['user_id'])\n",
    "\n",
    "    return X, y"
   ],
   "metadata": {
    "collapsed": false,
    "pycharm": {
     "name": "#%%\n"
    }
   }
  },
  {
   "cell_type": "code",
   "execution_count": 7,
   "outputs": [
    {
     "data": {
      "text/plain": "1216"
     },
     "execution_count": 7,
     "metadata": {},
     "output_type": "execute_result"
    }
   ],
   "source": [
    "reviews['ts'].max()"
   ],
   "metadata": {
    "collapsed": false,
    "pycharm": {
     "name": "#%%\n"
    }
   }
  },
  {
   "cell_type": "markdown",
   "source": [
    "Всего в выборку попали отызывы за 1216 дней.\n",
    "Отложим в тестовую выборку отзывы за последние 100 дней."
   ],
   "metadata": {
    "collapsed": false
   }
  },
  {
   "cell_type": "code",
   "execution_count": 8,
   "outputs": [],
   "source": [
    "train_reviews, test_reviews = train_test_split(reviews, 1116)\n",
    "X_test, y_test = process_reviews(test_reviews)"
   ],
   "metadata": {
    "collapsed": false,
    "pycharm": {
     "name": "#%%\n"
    }
   }
  },
  {
   "cell_type": "markdown",
   "source": [
    "Посмотрим, сколько всего уникальных пользователей попало в эту тестовую выборку:"
   ],
   "metadata": {
    "collapsed": false
   }
  },
  {
   "cell_type": "code",
   "execution_count": 9,
   "outputs": [
    {
     "data": {
      "text/plain": "12044"
     },
     "execution_count": 9,
     "metadata": {},
     "output_type": "execute_result"
    }
   ],
   "source": [
    "len(X_test)"
   ],
   "metadata": {
    "collapsed": false,
    "pycharm": {
     "name": "#%%\n"
    }
   }
  },
  {
   "cell_type": "markdown",
   "source": [
    "### Метрика\n",
    "\n",
    "Метрика принимает на вход два DataFrame, имеющих такую же структуру, как и y_test.\n",
    "print_score домножает реальное значение метрики на 100 так же, как и в контесте.\n",
    "Подобная имплементация используется для оценки submission."
   ],
   "metadata": {
    "collapsed": false
   }
  },
  {
   "cell_type": "code",
   "execution_count": 10,
   "outputs": [],
   "source": [
    "def MNAP(size=20):\n",
    "    \"\"\"\n",
    "    MNAP(size=20)\n",
    "        Создаёт метрику под <size> сделанных предсказаний.\n",
    "\n",
    "        Parameters\n",
    "        ----------\n",
    "        size : int, default=20\n",
    "            Размер рекомендованной выборки для каждого пользователя\n",
    "\n",
    "        Returns\n",
    "        -------\n",
    "        func(pd.DataFrame, pd.DataFrame) -> float\n",
    "            Функция, вычисляющая MNAP.\n",
    "\n",
    "    \"\"\"\n",
    "\n",
    "    assert size >= 1, \"Size must be greater than zero!\"\n",
    "\n",
    "    def metric(y_true, predictions, size=size):\n",
    "        \"\"\"\n",
    "        metric(y_true, predictions, size=size)\n",
    "            Метрика MNAP для двух перемешанных наборов <y_true> и <y_pred>.\n",
    "\n",
    "            Parameters\n",
    "            ----------\n",
    "            y_true : pd.DataFrame\n",
    "                DataFrame с колонками <user_id> и <target>.\n",
    "                В <target> содержится список настоящих org_id, посещённых пользователем.\n",
    "\n",
    "            predictions : pd.DataFrame\n",
    "                DataFrame с колонками <user_id> и <target>.\n",
    "                В <target> содержится список рекомендованных для пользователя org_id.\n",
    "\n",
    "            Returns\n",
    "            -------\n",
    "            float\n",
    "                Значение метрики.\n",
    "        \"\"\"\n",
    "\n",
    "        y_true = y_true.rename({'target': 'y_true'}, axis='columns')\n",
    "        predictions = predictions.rename({'target': 'predictions'}, axis='columns')\n",
    "\n",
    "        merged = y_true.merge(predictions, left_on='user_id', right_on='user_id')\n",
    "\n",
    "        def score(x, size=size):\n",
    "            \"\"\"\n",
    "            Вспомогательная функция.\n",
    "            \"\"\"\n",
    "\n",
    "            y_true = x[1][1]\n",
    "            predictions = x[1][2][:size]\n",
    "\n",
    "            weight = 0\n",
    "\n",
    "            inner_weights = [0]\n",
    "            for n, item in enumerate(predictions):\n",
    "                inner_weight = inner_weights[-1] + (1 if item in y_true else 0)\n",
    "                inner_weights.append(inner_weight)\n",
    "\n",
    "            for n, item in enumerate(predictions):\n",
    "                if item in y_true:\n",
    "                    weight += inner_weights[n + 1] / (n + 1)\n",
    "\n",
    "            return weight / min(len(y_true), size)\n",
    "\n",
    "        return np.mean([score(row) for row in merged.iterrows()])\n",
    "\n",
    "\n",
    "    return metric\n",
    "\n",
    "\n",
    "def print_score(score):\n",
    "    print(f\"Score: {score*100.0:.2f}\")\n",
    "\n",
    "\n",
    "N = 20\n",
    "MNAP_N = MNAP(N)"
   ],
   "metadata": {
    "collapsed": false,
    "pycharm": {
     "name": "#%%\n"
    }
   }
  },
  {
   "cell_type": "markdown",
   "source": [
    "## Попробуем что-нибудь разведать"
   ],
   "metadata": {
    "collapsed": false
   }
  },
  {
   "cell_type": "code",
   "execution_count": 16,
   "outputs": [
    {
     "name": "stdout",
     "output_type": "stream",
     "text": [
      "========================================\n",
      "3\n",
      "                    user_id               org_id  rating    ts aspects  \\\n",
      "359999   523295021912509756  3288896578700040512     5.0   587     NaN   \n",
      "2792711  523295021912509756  1011843506959814815     5.0  1047     NaN   \n",
      "3254920  523295021912509756  5145242920031317950     5.0   819     NaN   \n",
      "\n",
      "        user_city org_city  \n",
      "359999        msk      spb  \n",
      "2792711       msk      msk  \n",
      "3254920       msk      msk  \n",
      "========================================\n",
      "1\n",
      "                      user_id               org_id  rating    ts aspects  \\\n",
      "1763058  11952159487361099606  9286993598762204026     5.0  1183     NaN   \n",
      "\n",
      "        user_city org_city  \n",
      "1763058       msk      msk  \n",
      "========================================\n",
      "3\n",
      "                      user_id                org_id  rating   ts  \\\n",
      "12444    16879036589969590999  12784724396885152442     5.0  565   \n",
      "1596196  16879036589969590999   5435319468015488972     5.0  230   \n",
      "2035138  16879036589969590999   1305167628214420687     3.0  565   \n",
      "\n",
      "              aspects user_city org_city  \n",
      "12444        [4, 298]       msk      spb  \n",
      "1596196           NaN       msk      msk  \n",
      "2035138  [6, 38, 249]       msk      msk  \n",
      "========================================\n",
      "7\n",
      "                      user_id               org_id  rating    ts  aspects  \\\n",
      "1091270  12791716990148606332  5169964153661105626     5.0  1135      NaN   \n",
      "1256216  12791716990148606332  7861218656715600879     5.0   680      NaN   \n",
      "1357487  12791716990148606332  2295394939262420171     5.0  1142      NaN   \n",
      "2406541  12791716990148606332  7041290855303258849     5.0   680      NaN   \n",
      "2451861  12791716990148606332  8434871683670409842     3.0  1167      NaN   \n",
      "2598647  12791716990148606332  1674222304663015054     5.0   680      [1]   \n",
      "3028677  12791716990148606332  1056539437061300978     5.0   680  [3, 12]   \n",
      "\n",
      "        user_city org_city  \n",
      "1091270       msk      msk  \n",
      "1256216       msk      msk  \n",
      "1357487       msk      msk  \n",
      "2406541       msk      msk  \n",
      "2451861       msk      msk  \n",
      "2598647       msk      msk  \n",
      "3028677       msk      msk  \n",
      "========================================\n",
      "3\n",
      "                      user_id                org_id  rating   ts aspects  \\\n",
      "1693654  11642393216024958726   2826189169673333650     5.0  749     NaN   \n",
      "2151378  11642393216024958726  18354703907582951330     5.0  808     NaN   \n",
      "2807188  11642393216024958726  10209098567155335114     2.0  603     NaN   \n",
      "\n",
      "        user_city org_city  \n",
      "1693654       msk      msk  \n",
      "2151378       msk      msk  \n",
      "2807188       msk      msk  \n",
      "========================================\n",
      "9\n",
      "                     user_id                org_id  rating    ts  aspects  \\\n",
      "403995   7363061050701441135   9573904081358226246     4.0   992      NaN   \n",
      "524110   7363061050701441135  12767429980258144066     5.0   972      NaN   \n",
      "865481   7363061050701441135   6838233943148091808     5.0   996      NaN   \n",
      "909704   7363061050701441135  16086084742542781923     5.0  1184  [4, 14]   \n",
      "931722   7363061050701441135   1189613194503318246     5.0  1047      NaN   \n",
      "1150093  7363061050701441135   7348852248387045804     4.0  1184      NaN   \n",
      "1265788  7363061050701441135    232955244569250601     5.0  1050      NaN   \n",
      "1693390  7363061050701441135   2826189169673333650     4.0   922      NaN   \n",
      "1923730  7363061050701441135   5773003492407994102     5.0  1079      NaN   \n",
      "\n",
      "        user_city org_city  \n",
      "403995        msk      msk  \n",
      "524110        msk      msk  \n",
      "865481        msk      spb  \n",
      "909704        msk      msk  \n",
      "931722        msk      msk  \n",
      "1150093       msk      msk  \n",
      "1265788       msk      spb  \n",
      "1693390       msk      msk  \n",
      "1923730       msk      msk  \n",
      "========================================\n",
      "3\n",
      "                     user_id                org_id  rating   ts aspects  \\\n",
      "605339   7927901491991446348  13778916485758405755     4.0  443     NaN   \n",
      "1706647  7927901491991446348  15046904343032822936     5.0  695     NaN   \n",
      "2457716  7927901491991446348   1408743069184720846     5.0  492     NaN   \n",
      "\n",
      "        user_city org_city  \n",
      "605339        msk      msk  \n",
      "1706647       msk      msk  \n",
      "2457716       msk      msk  \n",
      "========================================\n",
      "2\n",
      "                      user_id                org_id  rating   ts aspects  \\\n",
      "864835   10611226467202169053   5621909668931016005     5.0  704     NaN   \n",
      "2407609  10611226467202169053  11089413049788179166     5.0  720     NaN   \n",
      "\n",
      "        user_city org_city  \n",
      "864835        msk      msk  \n",
      "2407609       msk      msk  \n",
      "========================================\n",
      "1\n",
      "                     user_id                org_id  rating  ts aspects  \\\n",
      "2266046  9667292573450126415  16459963099651367270     5.0  16   [380]   \n",
      "\n",
      "        user_city org_city  \n",
      "2266046       msk      msk  \n",
      "========================================\n",
      "3\n",
      "                     user_id                org_id  rating   ts aspects  \\\n",
      "1275782  2088263366849667130   4597457040188069049     5.0  244     NaN   \n",
      "1282634  2088263366849667130  12473282596098117287     5.0  244     NaN   \n",
      "2724796  2088263366849667130  16783013379173072394     3.0  244     NaN   \n",
      "\n",
      "        user_city org_city  \n",
      "1275782       msk      msk  \n",
      "1282634       msk      msk  \n",
      "2724796       msk      msk  \n"
     ]
    }
   ],
   "source": [
    "c = 0\n",
    "for index, row in users.iterrows():\n",
    "    # print(row['user_id'], row['city'])\n",
    "    print(\"=\"*40)\n",
    "    print(len(reviews.loc[reviews['user_id'] == row['user_id']]))\n",
    "    print(reviews.loc[reviews['user_id'] == row['user_id']])\n",
    "    c += 1\n",
    "    if c == 10:\n",
    "        break\n"
   ],
   "metadata": {
    "collapsed": false,
    "pycharm": {
     "name": "#%%\n"
    }
   }
  },
  {
   "cell_type": "code",
   "execution_count": 36,
   "outputs": [
    {
     "name": "stdout",
     "output_type": "stream",
     "text": [
      "            user_id\n",
      "0  2183246479913987\n",
      "1  2296072303631704\n",
      "2  2734551237953758\n",
      "3  3127332141603176\n",
      "4  8312342049993844\n",
      "7\n"
     ]
    }
   ],
   "source": [
    "print(X_test.head())\n",
    "cnt = 0\n",
    "for index, row in y_test.iterrows():\n",
    "    if len(row[\"target\"]) > 20:\n",
    "        cnt += 1\n",
    "        # print(\"=\"*40)\n",
    "        # print(row)\n",
    "print(cnt)\n",
    "\n"
   ],
   "metadata": {
    "collapsed": false,
    "pycharm": {
     "name": "#%%\n"
    }
   }
  }
 ],
 "metadata": {
  "kernelspec": {
   "display_name": "Python 3",
   "language": "python",
   "name": "python3"
  },
  "language_info": {
   "codemirror_mode": {
    "name": "ipython",
    "version": 2
   },
   "file_extension": ".py",
   "mimetype": "text/x-python",
   "name": "python",
   "nbconvert_exporter": "python",
   "pygments_lexer": "ipython2",
   "version": "2.7.6"
  }
 },
 "nbformat": 4,
 "nbformat_minor": 0
}